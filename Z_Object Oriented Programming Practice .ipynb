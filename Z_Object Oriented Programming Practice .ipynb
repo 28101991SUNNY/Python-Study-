{
 "cells": [
  {
   "cell_type": "raw",
   "id": "15fb33f9",
   "metadata": {},
   "source": [
    "student  : -objects\n",
    "    \n",
    "    attribute\n",
    "    tasks/behaviour - \n",
    "    "
   ]
  },
  {
   "cell_type": "code",
   "execution_count": 6,
   "id": "a51c9645",
   "metadata": {},
   "outputs": [],
   "source": [
    "class Student:\n",
    "    pass"
   ]
  },
  {
   "cell_type": "code",
   "execution_count": 2,
   "id": "938a8d61",
   "metadata": {},
   "outputs": [],
   "source": [
    "s1 = Student() #created an object"
   ]
  },
  {
   "cell_type": "code",
   "execution_count": 3,
   "id": "c08a98e9",
   "metadata": {},
   "outputs": [
    {
     "data": {
      "text/plain": [
       "__main__.Student"
      ]
     },
     "execution_count": 3,
     "metadata": {},
     "output_type": "execute_result"
    }
   ],
   "source": [
    "type(s1)"
   ]
  },
  {
   "cell_type": "code",
   "execution_count": 7,
   "id": "2f59270d",
   "metadata": {},
   "outputs": [
    {
     "data": {
      "text/plain": [
       "type"
      ]
     },
     "execution_count": 7,
     "metadata": {},
     "output_type": "execute_result"
    }
   ],
   "source": [
    "type(Student)"
   ]
  },
  {
   "cell_type": "code",
   "execution_count": 8,
   "id": "966f934d",
   "metadata": {},
   "outputs": [],
   "source": [
    "s1.name = \"Sunny\""
   ]
  },
  {
   "cell_type": "code",
   "execution_count": 9,
   "id": "37babdb5",
   "metadata": {},
   "outputs": [
    {
     "name": "stdout",
     "output_type": "stream",
     "text": [
      "<__main__.Student object at 0x0000028856455190>\n"
     ]
    }
   ],
   "source": [
    "print(s1)"
   ]
  },
  {
   "cell_type": "code",
   "execution_count": 10,
   "id": "e9f95462",
   "metadata": {},
   "outputs": [
    {
     "name": "stdout",
     "output_type": "stream",
     "text": [
      "<class '__main__.Student'>\n"
     ]
    }
   ],
   "source": [
    "print(Student)"
   ]
  },
  {
   "cell_type": "code",
   "execution_count": 12,
   "id": "0e34f2fd",
   "metadata": {},
   "outputs": [
    {
     "data": {
      "text/plain": [
       "<__main__.Student at 0x288566c4a60>"
      ]
     },
     "execution_count": 12,
     "metadata": {},
     "output_type": "execute_result"
    }
   ],
   "source": [
    "Student()"
   ]
  },
  {
   "cell_type": "code",
   "execution_count": 14,
   "id": "a7fa10ba",
   "metadata": {},
   "outputs": [
    {
     "data": {
      "text/plain": [
       "<__main__.Student at 0x28856455190>"
      ]
     },
     "execution_count": 14,
     "metadata": {},
     "output_type": "execute_result"
    }
   ],
   "source": [
    "s1"
   ]
  },
  {
   "cell_type": "code",
   "execution_count": 13,
   "id": "20bf4f27",
   "metadata": {},
   "outputs": [
    {
     "data": {
      "text/plain": [
       "'Sunny'"
      ]
     },
     "execution_count": 13,
     "metadata": {},
     "output_type": "execute_result"
    }
   ],
   "source": [
    "s1.name"
   ]
  },
  {
   "cell_type": "code",
   "execution_count": null,
   "id": "51f2e8c9",
   "metadata": {},
   "outputs": [],
   "source": []
  },
  {
   "cell_type": "code",
   "execution_count": 15,
   "id": "fb98c623",
   "metadata": {},
   "outputs": [],
   "source": [
    "s1.name = \"Rahul\""
   ]
  },
  {
   "cell_type": "code",
   "execution_count": 16,
   "id": "63fac5ca",
   "metadata": {},
   "outputs": [
    {
     "data": {
      "text/plain": [
       "'Rahul'"
      ]
     },
     "execution_count": 16,
     "metadata": {},
     "output_type": "execute_result"
    }
   ],
   "source": [
    "s1.name"
   ]
  },
  {
   "cell_type": "code",
   "execution_count": 19,
   "id": "4e13d483",
   "metadata": {},
   "outputs": [],
   "source": [
    "s2 = Student()\n",
    "s2.name = \"Sunny\""
   ]
  },
  {
   "cell_type": "code",
   "execution_count": 20,
   "id": "eba038f8",
   "metadata": {},
   "outputs": [
    {
     "data": {
      "text/plain": [
       "'Sunny'"
      ]
     },
     "execution_count": 20,
     "metadata": {},
     "output_type": "execute_result"
    }
   ],
   "source": [
    "s2.name"
   ]
  },
  {
   "cell_type": "code",
   "execution_count": 21,
   "id": "6031f518",
   "metadata": {},
   "outputs": [
    {
     "data": {
      "text/plain": [
       "('Rahul', 'Sunny')"
      ]
     },
     "execution_count": 21,
     "metadata": {},
     "output_type": "execute_result"
    }
   ],
   "source": [
    "s1.name, s2.name"
   ]
  },
  {
   "cell_type": "code",
   "execution_count": null,
   "id": "0e62370d",
   "metadata": {},
   "outputs": [],
   "source": []
  },
  {
   "cell_type": "code",
   "execution_count": null,
   "id": "f5607242",
   "metadata": {},
   "outputs": [],
   "source": []
  },
  {
   "cell_type": "code",
   "execution_count": null,
   "id": "05bea303",
   "metadata": {},
   "outputs": [],
   "source": []
  },
  {
   "cell_type": "code",
   "execution_count": null,
   "id": "a5465ff8",
   "metadata": {},
   "outputs": [],
   "source": []
  },
  {
   "cell_type": "code",
   "execution_count": null,
   "id": "2f47edd7",
   "metadata": {},
   "outputs": [],
   "source": []
  },
  {
   "cell_type": "code",
   "execution_count": null,
   "id": "8b0567ad",
   "metadata": {},
   "outputs": [],
   "source": []
  },
  {
   "cell_type": "code",
   "execution_count": null,
   "id": "034e998d",
   "metadata": {},
   "outputs": [],
   "source": []
  },
  {
   "cell_type": "code",
   "execution_count": 30,
   "id": "69aa185a",
   "metadata": {},
   "outputs": [],
   "source": [
    "class Student:\n",
    "    \n",
    "    def __init__(self):                    # __init__ : initialiser \n",
    "        self.name = \"PlaceHolder\"          # self.name : attribute"
   ]
  },
  {
   "cell_type": "code",
   "execution_count": 31,
   "id": "5a30086c",
   "metadata": {},
   "outputs": [],
   "source": [
    "s1 = Student()      # initialising an object "
   ]
  },
  {
   "cell_type": "code",
   "execution_count": 32,
   "id": "2968436f",
   "metadata": {},
   "outputs": [
    {
     "data": {
      "text/plain": [
       "'PlaceHolder'"
      ]
     },
     "execution_count": 32,
     "metadata": {},
     "output_type": "execute_result"
    }
   ],
   "source": [
    "s1.name"
   ]
  },
  {
   "cell_type": "code",
   "execution_count": 33,
   "id": "8f944e21",
   "metadata": {},
   "outputs": [],
   "source": [
    "s1.name = \"Sunny\""
   ]
  },
  {
   "cell_type": "code",
   "execution_count": 34,
   "id": "2b28dab0",
   "metadata": {},
   "outputs": [
    {
     "data": {
      "text/plain": [
       "'Sunny'"
      ]
     },
     "execution_count": 34,
     "metadata": {},
     "output_type": "execute_result"
    }
   ],
   "source": [
    "s1.name"
   ]
  },
  {
   "cell_type": "code",
   "execution_count": 35,
   "id": "5266c1e1",
   "metadata": {},
   "outputs": [],
   "source": [
    "s2  = Student()          # initialising an object "
   ]
  },
  {
   "cell_type": "code",
   "execution_count": 36,
   "id": "7e9129f6",
   "metadata": {},
   "outputs": [
    {
     "data": {
      "text/plain": [
       "'PlaceHolder'"
      ]
     },
     "execution_count": 36,
     "metadata": {},
     "output_type": "execute_result"
    }
   ],
   "source": [
    "s2.name"
   ]
  },
  {
   "cell_type": "code",
   "execution_count": null,
   "id": "5d40e87e",
   "metadata": {},
   "outputs": [],
   "source": []
  },
  {
   "cell_type": "code",
   "execution_count": null,
   "id": "bb09358d",
   "metadata": {},
   "outputs": [],
   "source": []
  },
  {
   "cell_type": "code",
   "execution_count": null,
   "id": "d1963c15",
   "metadata": {},
   "outputs": [],
   "source": []
  },
  {
   "cell_type": "code",
   "execution_count": null,
   "id": "f5d0e96b",
   "metadata": {},
   "outputs": [],
   "source": []
  },
  {
   "cell_type": "code",
   "execution_count": null,
   "id": "03940e06",
   "metadata": {},
   "outputs": [],
   "source": []
  },
  {
   "cell_type": "code",
   "execution_count": null,
   "id": "c3b89dc3",
   "metadata": {},
   "outputs": [],
   "source": []
  },
  {
   "cell_type": "code",
   "execution_count": 45,
   "id": "9d4ad7bc",
   "metadata": {},
   "outputs": [],
   "source": [
    "class Student:\n",
    "    \n",
    "    def __init__(self):                    # __init__ : initialiser \n",
    "        print(\"Self : \", self)\n",
    "        self.name = \"PlaceHolder\"          # self.name : attribute"
   ]
  },
  {
   "cell_type": "code",
   "execution_count": 46,
   "id": "67e66b6a",
   "metadata": {},
   "outputs": [
    {
     "name": "stdout",
     "output_type": "stream",
     "text": [
      "Self :  <__main__.Student object at 0x000002885695A760>\n"
     ]
    }
   ],
   "source": [
    "s1 = Student()     # instantiating an object "
   ]
  },
  {
   "cell_type": "code",
   "execution_count": 47,
   "id": "f76d5512",
   "metadata": {},
   "outputs": [
    {
     "name": "stdout",
     "output_type": "stream",
     "text": [
      "<__main__.Student object at 0x000002885695A760>\n"
     ]
    }
   ],
   "source": [
    "print(s1)"
   ]
  },
  {
   "cell_type": "code",
   "execution_count": 48,
   "id": "670c6c8b",
   "metadata": {},
   "outputs": [
    {
     "name": "stdout",
     "output_type": "stream",
     "text": [
      "Self :  <__main__.Student object at 0x00000288566F2A30>\n"
     ]
    }
   ],
   "source": [
    "s2 = Student()"
   ]
  },
  {
   "cell_type": "code",
   "execution_count": 49,
   "id": "cc9a80f5",
   "metadata": {},
   "outputs": [
    {
     "name": "stdout",
     "output_type": "stream",
     "text": [
      "<__main__.Student object at 0x00000288566F2A30>\n"
     ]
    }
   ],
   "source": [
    "print(s2)"
   ]
  },
  {
   "cell_type": "code",
   "execution_count": null,
   "id": "c9493353",
   "metadata": {},
   "outputs": [],
   "source": []
  },
  {
   "cell_type": "code",
   "execution_count": null,
   "id": "2d5a4b36",
   "metadata": {},
   "outputs": [],
   "source": []
  },
  {
   "cell_type": "code",
   "execution_count": null,
   "id": "ec42e151",
   "metadata": {},
   "outputs": [],
   "source": []
  },
  {
   "cell_type": "code",
   "execution_count": null,
   "id": "560f45e8",
   "metadata": {},
   "outputs": [],
   "source": []
  },
  {
   "cell_type": "code",
   "execution_count": null,
   "id": "54ae1357",
   "metadata": {},
   "outputs": [],
   "source": []
  },
  {
   "cell_type": "code",
   "execution_count": null,
   "id": "3ef6da63",
   "metadata": {},
   "outputs": [],
   "source": []
  },
  {
   "cell_type": "code",
   "execution_count": 52,
   "id": "34b43b42",
   "metadata": {},
   "outputs": [],
   "source": [
    "class Student:\n",
    "    \n",
    "    def __init__(self):               \n",
    "        \n",
    "        name = \"PlaceHolder\"     # this is just a local variale\n",
    "                                 # object dont have any attribute called \"name\""
   ]
  },
  {
   "cell_type": "code",
   "execution_count": 53,
   "id": "02a85845",
   "metadata": {},
   "outputs": [],
   "source": [
    "s1 = Student()"
   ]
  },
  {
   "cell_type": "code",
   "execution_count": 56,
   "id": "778100e0",
   "metadata": {},
   "outputs": [
    {
     "ename": "AttributeError",
     "evalue": "'Student' object has no attribute 'name'",
     "output_type": "error",
     "traceback": [
      "\u001b[1;31m---------------------------------------------------------------------------\u001b[0m",
      "\u001b[1;31mAttributeError\u001b[0m                            Traceback (most recent call last)",
      "\u001b[1;32m~\\AppData\\Local\\Temp/ipykernel_27264/2835019485.py\u001b[0m in \u001b[0;36m<module>\u001b[1;34m\u001b[0m\n\u001b[1;32m----> 1\u001b[1;33m \u001b[0ms1\u001b[0m\u001b[1;33m.\u001b[0m\u001b[0mname\u001b[0m\u001b[1;33m\u001b[0m\u001b[1;33m\u001b[0m\u001b[0m\n\u001b[0m",
      "\u001b[1;31mAttributeError\u001b[0m: 'Student' object has no attribute 'name'"
     ]
    }
   ],
   "source": [
    "s1.name"
   ]
  },
  {
   "cell_type": "code",
   "execution_count": null,
   "id": "f03d0935",
   "metadata": {},
   "outputs": [],
   "source": []
  },
  {
   "cell_type": "code",
   "execution_count": null,
   "id": "fe3a7ded",
   "metadata": {},
   "outputs": [],
   "source": []
  },
  {
   "cell_type": "code",
   "execution_count": null,
   "id": "69e155ef",
   "metadata": {},
   "outputs": [],
   "source": []
  },
  {
   "cell_type": "code",
   "execution_count": null,
   "id": "addf9b30",
   "metadata": {},
   "outputs": [],
   "source": []
  },
  {
   "cell_type": "code",
   "execution_count": 57,
   "id": "b9169f0d",
   "metadata": {},
   "outputs": [],
   "source": [
    "class Student:\n",
    "    \n",
    "    def __init__():               \n",
    "        \n",
    "        name = \"PlaceHolder\"     "
   ]
  },
  {
   "cell_type": "code",
   "execution_count": 58,
   "id": "d10d0b98",
   "metadata": {},
   "outputs": [
    {
     "ename": "TypeError",
     "evalue": "__init__() takes 0 positional arguments but 1 was given",
     "output_type": "error",
     "traceback": [
      "\u001b[1;31m---------------------------------------------------------------------------\u001b[0m",
      "\u001b[1;31mTypeError\u001b[0m                                 Traceback (most recent call last)",
      "\u001b[1;32m~\\AppData\\Local\\Temp/ipykernel_27264/391622993.py\u001b[0m in \u001b[0;36m<module>\u001b[1;34m\u001b[0m\n\u001b[1;32m----> 1\u001b[1;33m \u001b[0ms1\u001b[0m \u001b[1;33m=\u001b[0m \u001b[0mStudent\u001b[0m\u001b[1;33m(\u001b[0m\u001b[1;33m)\u001b[0m\u001b[1;33m\u001b[0m\u001b[1;33m\u001b[0m\u001b[0m\n\u001b[0m",
      "\u001b[1;31mTypeError\u001b[0m: __init__() takes 0 positional arguments but 1 was given"
     ]
    }
   ],
   "source": [
    "s1 = Student()"
   ]
  },
  {
   "cell_type": "code",
   "execution_count": 59,
   "id": "1b4e19fc",
   "metadata": {},
   "outputs": [
    {
     "ename": "AttributeError",
     "evalue": "'Student' object has no attribute 'name'",
     "output_type": "error",
     "traceback": [
      "\u001b[1;31m---------------------------------------------------------------------------\u001b[0m",
      "\u001b[1;31mAttributeError\u001b[0m                            Traceback (most recent call last)",
      "\u001b[1;32m~\\AppData\\Local\\Temp/ipykernel_27264/2835019485.py\u001b[0m in \u001b[0;36m<module>\u001b[1;34m\u001b[0m\n\u001b[1;32m----> 1\u001b[1;33m \u001b[0ms1\u001b[0m\u001b[1;33m.\u001b[0m\u001b[0mname\u001b[0m\u001b[1;33m\u001b[0m\u001b[1;33m\u001b[0m\u001b[0m\n\u001b[0m",
      "\u001b[1;31mAttributeError\u001b[0m: 'Student' object has no attribute 'name'"
     ]
    }
   ],
   "source": [
    "s1.name"
   ]
  },
  {
   "cell_type": "code",
   "execution_count": null,
   "id": "07f69afe",
   "metadata": {},
   "outputs": [],
   "source": []
  },
  {
   "cell_type": "code",
   "execution_count": null,
   "id": "4036d46a",
   "metadata": {},
   "outputs": [],
   "source": []
  },
  {
   "cell_type": "code",
   "execution_count": null,
   "id": "9a4788ec",
   "metadata": {},
   "outputs": [],
   "source": []
  },
  {
   "cell_type": "code",
   "execution_count": null,
   "id": "febe1d58",
   "metadata": {},
   "outputs": [],
   "source": []
  },
  {
   "cell_type": "code",
   "execution_count": null,
   "id": "087cdd1c",
   "metadata": {},
   "outputs": [],
   "source": []
  },
  {
   "cell_type": "code",
   "execution_count": 66,
   "id": "3566b4f0",
   "metadata": {},
   "outputs": [],
   "source": [
    "class Student:\n",
    "    \n",
    "    def __init__(self):               \n",
    "        \n",
    "        self.name = \"By_Default_value\"     "
   ]
  },
  {
   "cell_type": "code",
   "execution_count": 67,
   "id": "9fdb8362",
   "metadata": {},
   "outputs": [],
   "source": [
    "s1 = Student()"
   ]
  },
  {
   "cell_type": "code",
   "execution_count": 68,
   "id": "96723644",
   "metadata": {},
   "outputs": [
    {
     "data": {
      "text/plain": [
       "'By_Default_value'"
      ]
     },
     "execution_count": 68,
     "metadata": {},
     "output_type": "execute_result"
    }
   ],
   "source": [
    "s1.name"
   ]
  },
  {
   "cell_type": "code",
   "execution_count": null,
   "id": "707a944e",
   "metadata": {},
   "outputs": [],
   "source": []
  },
  {
   "cell_type": "code",
   "execution_count": null,
   "id": "5bb3a84b",
   "metadata": {},
   "outputs": [],
   "source": []
  },
  {
   "cell_type": "code",
   "execution_count": null,
   "id": "c8b110f4",
   "metadata": {},
   "outputs": [],
   "source": []
  },
  {
   "cell_type": "code",
   "execution_count": null,
   "id": "a30b559c",
   "metadata": {},
   "outputs": [],
   "source": []
  },
  {
   "cell_type": "code",
   "execution_count": 87,
   "id": "e42df652",
   "metadata": {},
   "outputs": [],
   "source": [
    "class Student:\n",
    "    \n",
    "    def __init__(self):               \n",
    "        self.name = \"By_Default_value\"     \n",
    "        \n",
    "    def __str__(self):\n",
    "        return f\"Hello, Student's Name is {self.name}\"\n",
    "        "
   ]
  },
  {
   "cell_type": "code",
   "execution_count": 88,
   "id": "8a6dc2ca",
   "metadata": {},
   "outputs": [],
   "source": [
    "s1 = Student()"
   ]
  },
  {
   "cell_type": "code",
   "execution_count": 89,
   "id": "c2193fa2",
   "metadata": {},
   "outputs": [],
   "source": [
    "s1.name = \"Sunny\""
   ]
  },
  {
   "cell_type": "code",
   "execution_count": 90,
   "id": "6daa40ed",
   "metadata": {},
   "outputs": [
    {
     "name": "stdout",
     "output_type": "stream",
     "text": [
      "Hello, Student's Name is Sunny\n"
     ]
    }
   ],
   "source": [
    "print(s1)"
   ]
  },
  {
   "cell_type": "code",
   "execution_count": null,
   "id": "9e4f740d",
   "metadata": {},
   "outputs": [],
   "source": []
  },
  {
   "cell_type": "code",
   "execution_count": null,
   "id": "d365495a",
   "metadata": {},
   "outputs": [],
   "source": []
  },
  {
   "cell_type": "code",
   "execution_count": null,
   "id": "18a48ef7",
   "metadata": {},
   "outputs": [],
   "source": []
  },
  {
   "cell_type": "code",
   "execution_count": null,
   "id": "0b493dc9",
   "metadata": {},
   "outputs": [],
   "source": []
  },
  {
   "cell_type": "code",
   "execution_count": null,
   "id": "e21d921e",
   "metadata": {},
   "outputs": [],
   "source": []
  },
  {
   "cell_type": "code",
   "execution_count": null,
   "id": "fd490f72",
   "metadata": {},
   "outputs": [],
   "source": []
  },
  {
   "cell_type": "code",
   "execution_count": null,
   "id": "5e739079",
   "metadata": {},
   "outputs": [],
   "source": []
  },
  {
   "cell_type": "code",
   "execution_count": null,
   "id": "715f3036",
   "metadata": {},
   "outputs": [],
   "source": []
  },
  {
   "cell_type": "code",
   "execution_count": null,
   "id": "f0d2d990",
   "metadata": {},
   "outputs": [],
   "source": []
  },
  {
   "cell_type": "code",
   "execution_count": 113,
   "id": "02f951db",
   "metadata": {},
   "outputs": [],
   "source": [
    "class Student:\n",
    "    \n",
    "    def __init__(self,name_string = \"By_Default_Name\"):     # default_name is keyWord Argument             \n",
    "        self.name = name_string    \n",
    "        \n",
    "    def __str__(self):\n",
    "        return f\"Hello, Student's Name is {self.name}\"\n",
    "        "
   ]
  },
  {
   "cell_type": "code",
   "execution_count": 114,
   "id": "9f1631fc",
   "metadata": {},
   "outputs": [],
   "source": [
    "s1 = Student(\"Sunny\")"
   ]
  },
  {
   "cell_type": "code",
   "execution_count": 115,
   "id": "f2515dda",
   "metadata": {},
   "outputs": [
    {
     "data": {
      "text/plain": [
       "'Sunny'"
      ]
     },
     "execution_count": 115,
     "metadata": {},
     "output_type": "execute_result"
    }
   ],
   "source": [
    "s1.name"
   ]
  },
  {
   "cell_type": "code",
   "execution_count": 116,
   "id": "280a773c",
   "metadata": {},
   "outputs": [
    {
     "name": "stdout",
     "output_type": "stream",
     "text": [
      "Hello, Student's Name is Sunny\n"
     ]
    }
   ],
   "source": [
    "print(s1)"
   ]
  },
  {
   "cell_type": "code",
   "execution_count": null,
   "id": "89cedef4",
   "metadata": {},
   "outputs": [],
   "source": []
  },
  {
   "cell_type": "code",
   "execution_count": 117,
   "id": "ed8805f7",
   "metadata": {},
   "outputs": [],
   "source": [
    "s2 = Student(\"Parth\")"
   ]
  },
  {
   "cell_type": "code",
   "execution_count": 118,
   "id": "9701b48d",
   "metadata": {},
   "outputs": [
    {
     "name": "stdout",
     "output_type": "stream",
     "text": [
      "Hello, Student's Name is Parth\n"
     ]
    }
   ],
   "source": [
    "print(s2)"
   ]
  },
  {
   "cell_type": "code",
   "execution_count": null,
   "id": "fe91d8bc",
   "metadata": {},
   "outputs": [],
   "source": []
  },
  {
   "cell_type": "code",
   "execution_count": 119,
   "id": "8b03e18f",
   "metadata": {},
   "outputs": [],
   "source": [
    "s3 = Student(\"Anant\")"
   ]
  },
  {
   "cell_type": "code",
   "execution_count": 120,
   "id": "363b07df",
   "metadata": {},
   "outputs": [
    {
     "data": {
      "text/plain": [
       "'Anant'"
      ]
     },
     "execution_count": 120,
     "metadata": {},
     "output_type": "execute_result"
    }
   ],
   "source": [
    "s3.name"
   ]
  },
  {
   "cell_type": "code",
   "execution_count": null,
   "id": "dfb4e621",
   "metadata": {},
   "outputs": [],
   "source": []
  },
  {
   "cell_type": "code",
   "execution_count": 121,
   "id": "80e4b9bf",
   "metadata": {},
   "outputs": [],
   "source": [
    "s4 = Student()"
   ]
  },
  {
   "cell_type": "code",
   "execution_count": 122,
   "id": "0e4c5a3f",
   "metadata": {},
   "outputs": [
    {
     "name": "stdout",
     "output_type": "stream",
     "text": [
      "Hello, Student's Name is By_Default_Name\n"
     ]
    }
   ],
   "source": [
    "print(s4)"
   ]
  },
  {
   "cell_type": "code",
   "execution_count": 123,
   "id": "d99d7e28",
   "metadata": {},
   "outputs": [
    {
     "data": {
      "text/plain": [
       "'By_Default_Name'"
      ]
     },
     "execution_count": 123,
     "metadata": {},
     "output_type": "execute_result"
    }
   ],
   "source": [
    "s4.name"
   ]
  },
  {
   "cell_type": "code",
   "execution_count": null,
   "id": "c22041fc",
   "metadata": {},
   "outputs": [],
   "source": []
  },
  {
   "cell_type": "code",
   "execution_count": null,
   "id": "e6ae594b",
   "metadata": {},
   "outputs": [],
   "source": []
  },
  {
   "cell_type": "code",
   "execution_count": null,
   "id": "f15bfec9",
   "metadata": {},
   "outputs": [],
   "source": []
  },
  {
   "cell_type": "code",
   "execution_count": null,
   "id": "cb008b49",
   "metadata": {},
   "outputs": [],
   "source": []
  },
  {
   "cell_type": "code",
   "execution_count": 131,
   "id": "fe9c352c",
   "metadata": {},
   "outputs": [],
   "source": [
    "class Vehicle:\n",
    "    def __init__(self,name):\n",
    "        self.name = name"
   ]
  },
  {
   "cell_type": "code",
   "execution_count": 132,
   "id": "fa814fec",
   "metadata": {},
   "outputs": [],
   "source": [
    "v = Vehicle(\"MiniVan\")"
   ]
  },
  {
   "cell_type": "code",
   "execution_count": 133,
   "id": "72ce9faa",
   "metadata": {},
   "outputs": [
    {
     "data": {
      "text/plain": [
       "'MiniVan'"
      ]
     },
     "execution_count": 133,
     "metadata": {},
     "output_type": "execute_result"
    }
   ],
   "source": [
    "v.name"
   ]
  },
  {
   "cell_type": "code",
   "execution_count": 134,
   "id": "a52adac6",
   "metadata": {},
   "outputs": [],
   "source": [
    "Vehicle.__init__(v,\"SUV\")"
   ]
  },
  {
   "cell_type": "code",
   "execution_count": 135,
   "id": "f730aa0b",
   "metadata": {},
   "outputs": [
    {
     "data": {
      "text/plain": [
       "'SUV'"
      ]
     },
     "execution_count": 135,
     "metadata": {},
     "output_type": "execute_result"
    }
   ],
   "source": [
    "v.name"
   ]
  },
  {
   "cell_type": "code",
   "execution_count": null,
   "id": "26f331cd",
   "metadata": {},
   "outputs": [],
   "source": []
  },
  {
   "cell_type": "code",
   "execution_count": null,
   "id": "440660df",
   "metadata": {},
   "outputs": [],
   "source": []
  },
  {
   "cell_type": "code",
   "execution_count": null,
   "id": "ecbe1781",
   "metadata": {},
   "outputs": [],
   "source": []
  },
  {
   "cell_type": "code",
   "execution_count": 136,
   "id": "d7ad8b94",
   "metadata": {},
   "outputs": [],
   "source": [
    "class Animal:\n",
    "    def __init__(xyz_self , name ):\n",
    "        \n",
    "        xyz_self.name = name"
   ]
  },
  {
   "cell_type": "code",
   "execution_count": 137,
   "id": "8ea7cea9",
   "metadata": {},
   "outputs": [],
   "source": [
    "a1 = Animal(\"Dog\")"
   ]
  },
  {
   "cell_type": "code",
   "execution_count": 138,
   "id": "21e6df84",
   "metadata": {},
   "outputs": [
    {
     "data": {
      "text/plain": [
       "'Dog'"
      ]
     },
     "execution_count": 138,
     "metadata": {},
     "output_type": "execute_result"
    }
   ],
   "source": [
    "a1.name"
   ]
  },
  {
   "cell_type": "code",
   "execution_count": null,
   "id": "8672b9b6",
   "metadata": {},
   "outputs": [],
   "source": []
  },
  {
   "cell_type": "code",
   "execution_count": null,
   "id": "23ccb44c",
   "metadata": {},
   "outputs": [],
   "source": []
  },
  {
   "cell_type": "code",
   "execution_count": null,
   "id": "91cf13f6",
   "metadata": {},
   "outputs": [],
   "source": []
  },
  {
   "cell_type": "code",
   "execution_count": null,
   "id": "47d3a366",
   "metadata": {},
   "outputs": [],
   "source": []
  },
  {
   "cell_type": "code",
   "execution_count": null,
   "id": "3caedf0e",
   "metadata": {},
   "outputs": [],
   "source": []
  },
  {
   "cell_type": "code",
   "execution_count": null,
   "id": "aabf5160",
   "metadata": {},
   "outputs": [],
   "source": []
  },
  {
   "cell_type": "code",
   "execution_count": 148,
   "id": "2ffbe174",
   "metadata": {},
   "outputs": [],
   "source": [
    "class Student:\n",
    "    \n",
    "    def __init__(self,name_string, roll_number_x): \n",
    "        self.name = name_string    \n",
    "        self.roll_number = roll_number_x\n",
    "        \n",
    "    def __str__(self):\n",
    "        return f\"Hello, Student's Name is {self.name} and Roll No is {self.roll_number}\"\n",
    "        "
   ]
  },
  {
   "cell_type": "code",
   "execution_count": 149,
   "id": "eed791b4",
   "metadata": {},
   "outputs": [],
   "source": [
    "s1 = Student(\"Anant\",3)"
   ]
  },
  {
   "cell_type": "code",
   "execution_count": 150,
   "id": "de9016e1",
   "metadata": {},
   "outputs": [
    {
     "name": "stdout",
     "output_type": "stream",
     "text": [
      "Hello, Student's Name is Anant and Roll No is 3\n"
     ]
    }
   ],
   "source": [
    "print(s1)"
   ]
  },
  {
   "cell_type": "code",
   "execution_count": 151,
   "id": "f7887d9a",
   "metadata": {},
   "outputs": [],
   "source": [
    "s2 = Student(\"Mudit\",2)"
   ]
  },
  {
   "cell_type": "code",
   "execution_count": 152,
   "id": "90b433d4",
   "metadata": {},
   "outputs": [
    {
     "name": "stdout",
     "output_type": "stream",
     "text": [
      "Hello, Student's Name is Mudit and Roll No is 2\n"
     ]
    }
   ],
   "source": [
    "print(s2)"
   ]
  },
  {
   "cell_type": "code",
   "execution_count": null,
   "id": "15e43327",
   "metadata": {},
   "outputs": [],
   "source": []
  },
  {
   "cell_type": "code",
   "execution_count": null,
   "id": "1e14d8a6",
   "metadata": {},
   "outputs": [],
   "source": []
  },
  {
   "cell_type": "code",
   "execution_count": null,
   "id": "5048772d",
   "metadata": {},
   "outputs": [],
   "source": []
  },
  {
   "cell_type": "code",
   "execution_count": null,
   "id": "ae0c6400",
   "metadata": {},
   "outputs": [],
   "source": []
  },
  {
   "cell_type": "code",
   "execution_count": null,
   "id": "00e5b4a1",
   "metadata": {},
   "outputs": [],
   "source": []
  },
  {
   "cell_type": "code",
   "execution_count": null,
   "id": "7c94a76a",
   "metadata": {},
   "outputs": [],
   "source": []
  },
  {
   "cell_type": "code",
   "execution_count": 218,
   "id": "51174ba6",
   "metadata": {},
   "outputs": [],
   "source": [
    "class Student:\n",
    "    counter = 0                       # class variable\n",
    "    def __init__(self,name_string): \n",
    "        self.name = name_string    \n",
    "        Student.counter += 1\n",
    "        self.roll_number = Student.counter\n",
    "        \n",
    "    def __str__(self):\n",
    "        return f\"Hello, Student's Name is {self.name} and Roll No is {self.roll_number}\"\n",
    "        "
   ]
  },
  {
   "cell_type": "code",
   "execution_count": 219,
   "id": "41eec60b",
   "metadata": {},
   "outputs": [
    {
     "name": "stdout",
     "output_type": "stream",
     "text": [
      "Hello, Student's Name is Sunny and Roll No is 1\n"
     ]
    }
   ],
   "source": [
    "s1 = Student(\"Sunny\")\n",
    "print(s1)"
   ]
  },
  {
   "cell_type": "code",
   "execution_count": 220,
   "id": "8934b3b7",
   "metadata": {},
   "outputs": [
    {
     "name": "stdout",
     "output_type": "stream",
     "text": [
      "Hello, Student's Name is Anant and Roll No is 2\n"
     ]
    }
   ],
   "source": [
    "s2 = Student(\"Anant\")\n",
    "print(s2)"
   ]
  },
  {
   "cell_type": "code",
   "execution_count": 221,
   "id": "f7282500",
   "metadata": {},
   "outputs": [
    {
     "name": "stdout",
     "output_type": "stream",
     "text": [
      "Hello, Student's Name is Mudit and Roll No is 3\n"
     ]
    }
   ],
   "source": [
    "s3 = Student(\"Mudit\")\n",
    "print(s3)"
   ]
  },
  {
   "cell_type": "code",
   "execution_count": 222,
   "id": "934b9710",
   "metadata": {},
   "outputs": [],
   "source": [
    "# class variable value now , accessing by class"
   ]
  },
  {
   "cell_type": "code",
   "execution_count": 223,
   "id": "d8bd2a3e",
   "metadata": {},
   "outputs": [
    {
     "data": {
      "text/plain": [
       "3"
      ]
     },
     "execution_count": 223,
     "metadata": {},
     "output_type": "execute_result"
    }
   ],
   "source": [
    "Student.counter"
   ]
  },
  {
   "cell_type": "code",
   "execution_count": 224,
   "id": "8abf0639",
   "metadata": {},
   "outputs": [],
   "source": [
    "# class variable value now , accessing by object"
   ]
  },
  {
   "cell_type": "code",
   "execution_count": 225,
   "id": "e52349df",
   "metadata": {},
   "outputs": [
    {
     "data": {
      "text/plain": [
       "(3, 3, 3)"
      ]
     },
     "execution_count": 225,
     "metadata": {},
     "output_type": "execute_result"
    }
   ],
   "source": [
    "s2.counter,s3.counter,s1.counter"
   ]
  },
  {
   "cell_type": "code",
   "execution_count": null,
   "id": "41113290",
   "metadata": {},
   "outputs": [],
   "source": []
  },
  {
   "cell_type": "code",
   "execution_count": null,
   "id": "bf36a809",
   "metadata": {},
   "outputs": [],
   "source": []
  },
  {
   "cell_type": "code",
   "execution_count": 226,
   "id": "ae994536",
   "metadata": {},
   "outputs": [],
   "source": [
    "Student.counter = 987"
   ]
  },
  {
   "cell_type": "code",
   "execution_count": 227,
   "id": "c3cdb481",
   "metadata": {},
   "outputs": [
    {
     "data": {
      "text/plain": [
       "987"
      ]
     },
     "execution_count": 227,
     "metadata": {},
     "output_type": "execute_result"
    }
   ],
   "source": [
    "Student.counter"
   ]
  },
  {
   "cell_type": "code",
   "execution_count": 228,
   "id": "0c2f391f",
   "metadata": {},
   "outputs": [
    {
     "data": {
      "text/plain": [
       "(987, 987, 987)"
      ]
     },
     "execution_count": 228,
     "metadata": {},
     "output_type": "execute_result"
    }
   ],
   "source": [
    "s2.counter,s3.counter,s1.counter"
   ]
  },
  {
   "cell_type": "code",
   "execution_count": null,
   "id": "469bd3fc",
   "metadata": {},
   "outputs": [],
   "source": []
  },
  {
   "cell_type": "code",
   "execution_count": 229,
   "id": "6273f0e8",
   "metadata": {},
   "outputs": [],
   "source": [
    "s1.counter = 123"
   ]
  },
  {
   "cell_type": "code",
   "execution_count": 230,
   "id": "4d4d83c6",
   "metadata": {},
   "outputs": [
    {
     "data": {
      "text/plain": [
       "123"
      ]
     },
     "execution_count": 230,
     "metadata": {},
     "output_type": "execute_result"
    }
   ],
   "source": [
    "s1.counter"
   ]
  },
  {
   "cell_type": "code",
   "execution_count": 232,
   "id": "51c761dc",
   "metadata": {},
   "outputs": [
    {
     "data": {
      "text/plain": [
       "(987, 987, 987, 123)"
      ]
     },
     "execution_count": 232,
     "metadata": {},
     "output_type": "execute_result"
    }
   ],
   "source": [
    "Student.counter,s2.counter,s3.counter,s1.counter"
   ]
  },
  {
   "cell_type": "code",
   "execution_count": null,
   "id": "b36165bb",
   "metadata": {},
   "outputs": [],
   "source": []
  },
  {
   "attachments": {
    "image.png": {
     "image/png": "[encoded data removed]"
    }
   },
   "cell_type": "markdown",
   "id": "34106816",
   "metadata": {},
   "source": [
    "![image.png](attachment:image.png)"
   ]
  },
  {
   "cell_type": "code",
   "execution_count": 233,
   "id": "cf57ea8f",
   "metadata": {},
   "outputs": [],
   "source": [
    "class Vehicle:\n",
    "    country=  \"India\"\n",
    "    \n",
    "    def __init__(self, name, milage):\n",
    "        self.name = name\n",
    "        self.milage = milage\n",
    "    "
   ]
  },
  {
   "cell_type": "code",
   "execution_count": 234,
   "id": "48fdc6a8",
   "metadata": {},
   "outputs": [],
   "source": [
    "v1 = Vehicle(\"MiniVan\",10)"
   ]
  },
  {
   "cell_type": "code",
   "execution_count": 235,
   "id": "a361a14f",
   "metadata": {},
   "outputs": [
    {
     "data": {
      "text/plain": [
       "'India'"
      ]
     },
     "execution_count": 235,
     "metadata": {},
     "output_type": "execute_result"
    }
   ],
   "source": [
    "v1.country"
   ]
  },
  {
   "cell_type": "code",
   "execution_count": 237,
   "id": "24944432",
   "metadata": {},
   "outputs": [],
   "source": [
    "v1.country = \"USA\""
   ]
  },
  {
   "cell_type": "code",
   "execution_count": 238,
   "id": "3d364038",
   "metadata": {},
   "outputs": [
    {
     "data": {
      "text/plain": [
       "'USA'"
      ]
     },
     "execution_count": 238,
     "metadata": {},
     "output_type": "execute_result"
    }
   ],
   "source": [
    "v1.country"
   ]
  },
  {
   "cell_type": "code",
   "execution_count": 239,
   "id": "4a7e922e",
   "metadata": {},
   "outputs": [
    {
     "data": {
      "text/plain": [
       "'India'"
      ]
     },
     "execution_count": 239,
     "metadata": {},
     "output_type": "execute_result"
    }
   ],
   "source": [
    "Vehicle.country"
   ]
  },
  {
   "cell_type": "code",
   "execution_count": null,
   "id": "d4b8343a",
   "metadata": {},
   "outputs": [],
   "source": []
  },
  {
   "cell_type": "code",
   "execution_count": null,
   "id": "c785b275",
   "metadata": {},
   "outputs": [],
   "source": []
  },
  {
   "cell_type": "code",
   "execution_count": null,
   "id": "fd84388b",
   "metadata": {},
   "outputs": [],
   "source": []
  },
  {
   "cell_type": "code",
   "execution_count": null,
   "id": "7d70b8ae",
   "metadata": {},
   "outputs": [],
   "source": []
  },
  {
   "cell_type": "code",
   "execution_count": null,
   "id": "60bba49b",
   "metadata": {},
   "outputs": [],
   "source": []
  },
  {
   "cell_type": "code",
   "execution_count": null,
   "id": "37c7876b",
   "metadata": {},
   "outputs": [],
   "source": []
  },
  {
   "cell_type": "code",
   "execution_count": null,
   "id": "e278a58a",
   "metadata": {},
   "outputs": [],
   "source": []
  },
  {
   "cell_type": "code",
   "execution_count": null,
   "id": "c897592c",
   "metadata": {},
   "outputs": [],
   "source": []
  },
  {
   "cell_type": "code",
   "execution_count": 240,
   "id": "88ba88fe",
   "metadata": {},
   "outputs": [],
   "source": [
    "class Student:\n",
    "    counter = 0                       # class variable\n",
    "    def __init__(self,name_string): \n",
    "        self.name = name_string    \n",
    "        Student.counter += 1\n",
    "        self.roll_number = Student.counter\n",
    "        \n",
    "    def __str__(self):\n",
    "        return f\"Hello, Student's Name is {self.name} and Roll No is {self.roll_number}\"\n",
    "        \n",
    "    def intro():\n",
    "        print(f\"Hello My Name is {self.name}\")\n",
    "        "
   ]
  },
  {
   "cell_type": "code",
   "execution_count": 241,
   "id": "b0205aa4",
   "metadata": {},
   "outputs": [],
   "source": [
    "s = Student(\"Anant\")"
   ]
  },
  {
   "cell_type": "code",
   "execution_count": 242,
   "id": "19b223c4",
   "metadata": {},
   "outputs": [
    {
     "ename": "TypeError",
     "evalue": "intro() takes 0 positional arguments but 1 was given",
     "output_type": "error",
     "traceback": [
      "\u001b[1;31m---------------------------------------------------------------------------\u001b[0m",
      "\u001b[1;31mTypeError\u001b[0m                                 Traceback (most recent call last)",
      "\u001b[1;32m~\\AppData\\Local\\Temp/ipykernel_27264/3410110314.py\u001b[0m in \u001b[0;36m<module>\u001b[1;34m\u001b[0m\n\u001b[1;32m----> 1\u001b[1;33m \u001b[0ms\u001b[0m\u001b[1;33m.\u001b[0m\u001b[0mintro\u001b[0m\u001b[1;33m(\u001b[0m\u001b[1;33m)\u001b[0m\u001b[1;33m\u001b[0m\u001b[1;33m\u001b[0m\u001b[0m\n\u001b[0m",
      "\u001b[1;31mTypeError\u001b[0m: intro() takes 0 positional arguments but 1 was given"
     ]
    }
   ],
   "source": [
    "s.intro()"
   ]
  },
  {
   "cell_type": "code",
   "execution_count": null,
   "id": "50cc85f0",
   "metadata": {},
   "outputs": [],
   "source": []
  },
  {
   "cell_type": "code",
   "execution_count": null,
   "id": "271fcc1b",
   "metadata": {},
   "outputs": [],
   "source": []
  },
  {
   "cell_type": "code",
   "execution_count": 243,
   "id": "19ba4cd3",
   "metadata": {},
   "outputs": [],
   "source": [
    "class Student:\n",
    "    counter = 0                       # class variable\n",
    "    def __init__(self,name_string): \n",
    "        self.name = name_string    \n",
    "        Student.counter += 1\n",
    "        self.roll_number = Student.counter\n",
    "        \n",
    "    def __str__(self):\n",
    "        return f\"Hello, Student's Name is {self.name} and Roll No is {self.roll_number}\"\n",
    "        \n",
    "    def intro(self):\n",
    "        print(f\"Hello My Name is {self.name}\")\n",
    "        "
   ]
  },
  {
   "cell_type": "code",
   "execution_count": 244,
   "id": "592137c6",
   "metadata": {},
   "outputs": [
    {
     "name": "stdout",
     "output_type": "stream",
     "text": [
      "Hello My Name is Anant\n"
     ]
    }
   ],
   "source": [
    "s = Student(\"Anant\")\n",
    "s.intro()"
   ]
  },
  {
   "cell_type": "code",
   "execution_count": null,
   "id": "1c23d35a",
   "metadata": {},
   "outputs": [],
   "source": []
  },
  {
   "cell_type": "code",
   "execution_count": null,
   "id": "f9531260",
   "metadata": {},
   "outputs": [],
   "source": []
  },
  {
   "cell_type": "code",
   "execution_count": 283,
   "id": "2ad6632a",
   "metadata": {},
   "outputs": [],
   "source": [
    "class Account:\n",
    "    counter = 0\n",
    "    \n",
    "    def __init__(self, bal = 0 ):\n",
    "        self.balance = bal\n",
    "        Account.counter += 1\n",
    "        self.Acc_number= Account.counter\n",
    "    \n",
    "    def __str__(self):\n",
    "        return f\"Acc Number:{self.Acc_number} Acc Balance :{self.balance} \"\n",
    "        "
   ]
  },
  {
   "cell_type": "code",
   "execution_count": 284,
   "id": "900ce2df",
   "metadata": {},
   "outputs": [],
   "source": [
    "a1 = Account(2000)"
   ]
  },
  {
   "cell_type": "code",
   "execution_count": 285,
   "id": "ba4ca324",
   "metadata": {},
   "outputs": [],
   "source": [
    "a2 = Account()"
   ]
  },
  {
   "cell_type": "code",
   "execution_count": 286,
   "id": "4c751d0b",
   "metadata": {},
   "outputs": [
    {
     "data": {
      "text/plain": [
       "2000"
      ]
     },
     "execution_count": 286,
     "metadata": {},
     "output_type": "execute_result"
    }
   ],
   "source": [
    "a1.balance"
   ]
  },
  {
   "cell_type": "code",
   "execution_count": 287,
   "id": "1f0aa9e5",
   "metadata": {},
   "outputs": [
    {
     "data": {
      "text/plain": [
       "0"
      ]
     },
     "execution_count": 287,
     "metadata": {},
     "output_type": "execute_result"
    }
   ],
   "source": [
    "a2.balance\n"
   ]
  },
  {
   "cell_type": "code",
   "execution_count": 288,
   "id": "152d013e",
   "metadata": {},
   "outputs": [
    {
     "name": "stdout",
     "output_type": "stream",
     "text": [
      "Acc Number:1 Acc Balance :2000 \n"
     ]
    }
   ],
   "source": [
    "print(a1)"
   ]
  },
  {
   "cell_type": "code",
   "execution_count": 289,
   "id": "9d7756fd",
   "metadata": {},
   "outputs": [
    {
     "name": "stdout",
     "output_type": "stream",
     "text": [
      "Acc Number:2 Acc Balance :0 \n"
     ]
    }
   ],
   "source": [
    "print(a2)"
   ]
  },
  {
   "cell_type": "code",
   "execution_count": 290,
   "id": "b650fa82",
   "metadata": {},
   "outputs": [],
   "source": [
    "a2.balance = 200"
   ]
  },
  {
   "cell_type": "code",
   "execution_count": 291,
   "id": "8e080e8c",
   "metadata": {},
   "outputs": [
    {
     "name": "stdout",
     "output_type": "stream",
     "text": [
      "Acc Number:2 Acc Balance :200 \n"
     ]
    }
   ],
   "source": [
    "print(a2)"
   ]
  },
  {
   "cell_type": "code",
   "execution_count": null,
   "id": "1ec88148",
   "metadata": {},
   "outputs": [],
   "source": []
  },
  {
   "cell_type": "code",
   "execution_count": 292,
   "id": "c2ecaf2c",
   "metadata": {},
   "outputs": [],
   "source": [
    "a3 = Account()"
   ]
  },
  {
   "cell_type": "code",
   "execution_count": 293,
   "id": "f4b1b230",
   "metadata": {},
   "outputs": [
    {
     "name": "stdout",
     "output_type": "stream",
     "text": [
      "Acc Number:3 Acc Balance :0 \n"
     ]
    }
   ],
   "source": [
    "print(a3)"
   ]
  },
  {
   "cell_type": "code",
   "execution_count": null,
   "id": "aaef1341",
   "metadata": {},
   "outputs": [],
   "source": []
  },
  {
   "cell_type": "code",
   "execution_count": null,
   "id": "9b0ad5a0",
   "metadata": {},
   "outputs": [],
   "source": []
  },
  {
   "cell_type": "code",
   "execution_count": null,
   "id": "ae377233",
   "metadata": {},
   "outputs": [],
   "source": []
  },
  {
   "cell_type": "code",
   "execution_count": null,
   "id": "f867ca93",
   "metadata": {},
   "outputs": [],
   "source": []
  },
  {
   "cell_type": "code",
   "execution_count": 302,
   "id": "c50ef709",
   "metadata": {},
   "outputs": [],
   "source": [
    "class Account:\n",
    "    counter = 0\n",
    "    \n",
    "    def __init__(self, bal = 0 ):\n",
    "        self.balance = bal\n",
    "        Account.counter += 1\n",
    "        self.Acc_number= Account.counter\n",
    "    \n",
    "    def __str__(self):\n",
    "        return f\"Acc Number:{self.Acc_number} Acc Balance :{self.balance} \"\n",
    "        \n",
    "    def deposit(self , amount):\n",
    "        self.balance += amount\n",
    "        \n",
    "    def withdraw(self, amount):\n",
    "        self.balance -= amount"
   ]
  },
  {
   "cell_type": "code",
   "execution_count": 303,
   "id": "4958706a",
   "metadata": {},
   "outputs": [],
   "source": [
    "a1 = Account()"
   ]
  },
  {
   "cell_type": "code",
   "execution_count": 304,
   "id": "9f6ef1a2",
   "metadata": {},
   "outputs": [
    {
     "data": {
      "text/plain": [
       "0"
      ]
     },
     "execution_count": 304,
     "metadata": {},
     "output_type": "execute_result"
    }
   ],
   "source": [
    "a1.balance"
   ]
  },
  {
   "cell_type": "code",
   "execution_count": 305,
   "id": "6e6cd5b7",
   "metadata": {},
   "outputs": [],
   "source": [
    "a1.deposit(100)"
   ]
  },
  {
   "cell_type": "code",
   "execution_count": 306,
   "id": "079bb1b5",
   "metadata": {},
   "outputs": [
    {
     "data": {
      "text/plain": [
       "100"
      ]
     },
     "execution_count": 306,
     "metadata": {},
     "output_type": "execute_result"
    }
   ],
   "source": [
    "a1.balance"
   ]
  },
  {
   "cell_type": "code",
   "execution_count": 307,
   "id": "405d1724",
   "metadata": {},
   "outputs": [
    {
     "name": "stdout",
     "output_type": "stream",
     "text": [
      "Acc Number:1 Acc Balance :100 \n"
     ]
    }
   ],
   "source": [
    "print(a1)"
   ]
  },
  {
   "cell_type": "code",
   "execution_count": 308,
   "id": "837b3b02",
   "metadata": {},
   "outputs": [],
   "source": [
    "a1.deposit(50)"
   ]
  },
  {
   "cell_type": "code",
   "execution_count": 309,
   "id": "5de82f14",
   "metadata": {},
   "outputs": [
    {
     "name": "stdout",
     "output_type": "stream",
     "text": [
      "Acc Number:1 Acc Balance :150 \n"
     ]
    }
   ],
   "source": [
    "print(a1)"
   ]
  },
  {
   "cell_type": "code",
   "execution_count": null,
   "id": "9ac390ee",
   "metadata": {},
   "outputs": [],
   "source": []
  },
  {
   "cell_type": "code",
   "execution_count": 310,
   "id": "17f367df",
   "metadata": {},
   "outputs": [
    {
     "name": "stdout",
     "output_type": "stream",
     "text": [
      "Acc Number:1 Acc Balance :130 \n"
     ]
    }
   ],
   "source": [
    "a1.withdraw(20)\n",
    "print(a1)"
   ]
  },
  {
   "cell_type": "code",
   "execution_count": null,
   "id": "bc654425",
   "metadata": {},
   "outputs": [],
   "source": []
  },
  {
   "cell_type": "code",
   "execution_count": 311,
   "id": "3848ce3e",
   "metadata": {},
   "outputs": [],
   "source": [
    "a2 = Account()"
   ]
  },
  {
   "cell_type": "code",
   "execution_count": 312,
   "id": "bc50ffbd",
   "metadata": {},
   "outputs": [],
   "source": [
    "a2.withdraw(50)"
   ]
  },
  {
   "cell_type": "code",
   "execution_count": 313,
   "id": "d7bfd372",
   "metadata": {},
   "outputs": [
    {
     "name": "stdout",
     "output_type": "stream",
     "text": [
      "Acc Number:2 Acc Balance :-50 \n"
     ]
    }
   ],
   "source": [
    "print(a2)"
   ]
  },
  {
   "cell_type": "code",
   "execution_count": null,
   "id": "fe8d423f",
   "metadata": {},
   "outputs": [],
   "source": []
  },
  {
   "cell_type": "code",
   "execution_count": null,
   "id": "3587995d",
   "metadata": {},
   "outputs": [],
   "source": []
  },
  {
   "cell_type": "code",
   "execution_count": null,
   "id": "a44f849b",
   "metadata": {},
   "outputs": [],
   "source": []
  },
  {
   "cell_type": "code",
   "execution_count": 343,
   "id": "0fad2e3b",
   "metadata": {},
   "outputs": [],
   "source": [
    "class Account:\n",
    "    counter = 0\n",
    "    \n",
    "    def __init__(self, bal = 0 ):\n",
    "        self.balance = bal\n",
    "        Account.counter += 1\n",
    "        self.Acc_number= Account.counter\n",
    "    \n",
    "    def __str__(self):\n",
    "        return f\"Acc Number:{self.Acc_number} Acc Balance :{self.balance}\"\n",
    "        \n",
    "    def deposit(self , amount):\n",
    "        if amount > 0 :\n",
    "            self.balance += amount\n",
    "        else:\n",
    "            return f\"Invalid Amount\"\n",
    "        \n",
    "    def withdraw(self, amount):\n",
    "        if amount > 0 and self.balance >= amount:\n",
    "            self.balance -= amount\n",
    "        else:\n",
    "            return \"Insufficient Balance\"\n",
    "        \n",
    "    def __repr__(self):\n",
    "        return f\"Account_Number:{self.Acc_number}\""
   ]
  },
  {
   "cell_type": "code",
   "execution_count": 344,
   "id": "8609b6bd",
   "metadata": {},
   "outputs": [
    {
     "data": {
      "text/plain": [
       "'Insufficient Balance'"
      ]
     },
     "execution_count": 344,
     "metadata": {},
     "output_type": "execute_result"
    }
   ],
   "source": [
    "a1 = Account()\n",
    "a1.withdraw(20)"
   ]
  },
  {
   "cell_type": "code",
   "execution_count": 345,
   "id": "0af48f47",
   "metadata": {},
   "outputs": [
    {
     "name": "stdout",
     "output_type": "stream",
     "text": [
      "Acc Number:1 Acc Balance :0\n"
     ]
    }
   ],
   "source": [
    "print(a1)"
   ]
  },
  {
   "cell_type": "code",
   "execution_count": 346,
   "id": "89abb863",
   "metadata": {},
   "outputs": [
    {
     "data": {
      "text/plain": [
       "'Invalid Amount'"
      ]
     },
     "execution_count": 346,
     "metadata": {},
     "output_type": "execute_result"
    }
   ],
   "source": [
    "a1.deposit(-9)"
   ]
  },
  {
   "cell_type": "code",
   "execution_count": 347,
   "id": "293ca854",
   "metadata": {},
   "outputs": [],
   "source": [
    "a1.deposit(10)"
   ]
  },
  {
   "cell_type": "code",
   "execution_count": 348,
   "id": "1597004d",
   "metadata": {},
   "outputs": [
    {
     "data": {
      "text/plain": [
       "10"
      ]
     },
     "execution_count": 348,
     "metadata": {},
     "output_type": "execute_result"
    }
   ],
   "source": [
    "a1.balance"
   ]
  },
  {
   "cell_type": "code",
   "execution_count": 349,
   "id": "a08f6a39",
   "metadata": {},
   "outputs": [
    {
     "data": {
      "text/plain": [
       "'Acc Number:1 Acc Balance :10'"
      ]
     },
     "execution_count": 349,
     "metadata": {},
     "output_type": "execute_result"
    }
   ],
   "source": [
    "str(a1)"
   ]
  },
  {
   "cell_type": "code",
   "execution_count": 350,
   "id": "563df6d8",
   "metadata": {},
   "outputs": [
    {
     "name": "stdout",
     "output_type": "stream",
     "text": [
      "Acc Number:1 Acc Balance :10\n"
     ]
    }
   ],
   "source": [
    "print(a1)"
   ]
  },
  {
   "cell_type": "code",
   "execution_count": null,
   "id": "c4b11ed6",
   "metadata": {},
   "outputs": [],
   "source": []
  },
  {
   "cell_type": "code",
   "execution_count": 353,
   "id": "418c608e",
   "metadata": {},
   "outputs": [
    {
     "data": {
      "text/plain": [
       "'Acc Number:1 Acc Balance :10'"
      ]
     },
     "execution_count": 353,
     "metadata": {},
     "output_type": "execute_result"
    }
   ],
   "source": [
    "a1.__str__()"
   ]
  },
  {
   "cell_type": "code",
   "execution_count": null,
   "id": "923f596d",
   "metadata": {},
   "outputs": [],
   "source": []
  },
  {
   "cell_type": "code",
   "execution_count": 354,
   "id": "35b5e2a7",
   "metadata": {},
   "outputs": [
    {
     "data": {
      "text/plain": [
       "Account_Number:1"
      ]
     },
     "execution_count": 354,
     "metadata": {},
     "output_type": "execute_result"
    }
   ],
   "source": [
    "a1   # if __repr__ is not there, it will return address of the object"
   ]
  },
  {
   "cell_type": "code",
   "execution_count": 356,
   "id": "11e7eca0",
   "metadata": {},
   "outputs": [
    {
     "data": {
      "text/plain": [
       "'Account_Number:1'"
      ]
     },
     "execution_count": 356,
     "metadata": {},
     "output_type": "execute_result"
    }
   ],
   "source": [
    "a1.__repr__()"
   ]
  },
  {
   "cell_type": "code",
   "execution_count": null,
   "id": "a5cf331f",
   "metadata": {},
   "outputs": [],
   "source": []
  },
  {
   "cell_type": "code",
   "execution_count": null,
   "id": "2c3a9b47",
   "metadata": {},
   "outputs": [],
   "source": []
  },
  {
   "cell_type": "code",
   "execution_count": null,
   "id": "5910b84c",
   "metadata": {},
   "outputs": [],
   "source": []
  },
  {
   "cell_type": "code",
   "execution_count": null,
   "id": "db4f5dd6",
   "metadata": {},
   "outputs": [],
   "source": []
  },
  {
   "cell_type": "code",
   "execution_count": null,
   "id": "f2eadaf9",
   "metadata": {},
   "outputs": [],
   "source": []
  },
  {
   "cell_type": "markdown",
   "id": "835e61bb",
   "metadata": {},
   "source": [
    "# inheritance"
   ]
  },
  {
   "cell_type": "code",
   "execution_count": 486,
   "id": "d355394b",
   "metadata": {},
   "outputs": [],
   "source": [
    "class Account:\n",
    "    counter = 0\n",
    "    \n",
    "    def __init__(self, bal = 0 ):\n",
    "        self.balance = bal\n",
    "        Account.counter += 1\n",
    "        self.Acc_number= Account.counter\n",
    "        \n",
    "        self.num_transaction = 0\n",
    "        self.max_transaction = 5\n",
    "    \n",
    "    def __str__(self):\n",
    "        return f\"Acc Number:{self.Acc_number} | Acc Balance : {self.balance} $\"\n",
    "        \n",
    "    def deposit(self , amount):\n",
    "        if amount > 0 and self.num_transaction < self.max_transaction:\n",
    "            self.balance += amount\n",
    "            self.num_transaction += 1\n",
    "        else:\n",
    "            return f\"Invalid Amount\"\n",
    "        \n",
    "    def withdraw(self, amount):\n",
    "        if amount > 0 and self.balance >= amount and self.num_transaction < self.max_transaction:\n",
    "            self.num_transaction += 1\n",
    "            self.balance -= amount\n",
    "        else:\n",
    "            return \"Insufficient Balance\"\n",
    "        \n",
    "    def __repr__(self):\n",
    "        return f\"Account_Number:{self.Acc_number}\"\n",
    "    \n",
    "\n"
   ]
  },
  {
   "cell_type": "code",
   "execution_count": 487,
   "id": "a164791e",
   "metadata": {},
   "outputs": [],
   "source": [
    "    \n",
    "class Savings_account(Account):  # inheriting account class  \n",
    "    pass\n"
   ]
  },
  {
   "cell_type": "code",
   "execution_count": 488,
   "id": "84076e49",
   "metadata": {},
   "outputs": [],
   "source": [
    "class Current_account(Account):\n",
    "    pass"
   ]
  },
  {
   "cell_type": "code",
   "execution_count": null,
   "id": "e0e01a5a",
   "metadata": {},
   "outputs": [],
   "source": []
  },
  {
   "cell_type": "code",
   "execution_count": 489,
   "id": "d8c77b95",
   "metadata": {},
   "outputs": [],
   "source": [
    "s1 = Savings_account()\n",
    "s1.deposit(500)\n",
    "s1.withdraw(20)\n"
   ]
  },
  {
   "cell_type": "code",
   "execution_count": 490,
   "id": "a0c0ecd9",
   "metadata": {},
   "outputs": [],
   "source": [
    "s1.deposit(20)"
   ]
  },
  {
   "cell_type": "code",
   "execution_count": 491,
   "id": "350d29e9",
   "metadata": {},
   "outputs": [
    {
     "name": "stdout",
     "output_type": "stream",
     "text": [
      "Acc Number:1 | Acc Balance : 500 $\n"
     ]
    }
   ],
   "source": [
    "print(s1)"
   ]
  },
  {
   "cell_type": "code",
   "execution_count": 492,
   "id": "1f498b52",
   "metadata": {},
   "outputs": [],
   "source": [
    "c1 = Current_account()"
   ]
  },
  {
   "cell_type": "code",
   "execution_count": 493,
   "id": "609cc3f8",
   "metadata": {},
   "outputs": [
    {
     "name": "stdout",
     "output_type": "stream",
     "text": [
      "Acc Number:2 | Acc Balance : 0 $\n"
     ]
    }
   ],
   "source": [
    "print(c1)"
   ]
  },
  {
   "cell_type": "code",
   "execution_count": 494,
   "id": "35b66ac4",
   "metadata": {},
   "outputs": [
    {
     "data": {
      "text/plain": [
       "'Insufficient Balance'"
      ]
     },
     "execution_count": 494,
     "metadata": {},
     "output_type": "execute_result"
    }
   ],
   "source": [
    "c1.withdraw(20)"
   ]
  },
  {
   "cell_type": "code",
   "execution_count": 495,
   "id": "c221c6ba",
   "metadata": {},
   "outputs": [
    {
     "name": "stdout",
     "output_type": "stream",
     "text": [
      "Acc Number:2 | Acc Balance : 380 $\n"
     ]
    }
   ],
   "source": [
    "c1.deposit(580)\n",
    "c1.withdraw(200)\n",
    "print(c1)"
   ]
  },
  {
   "cell_type": "code",
   "execution_count": 496,
   "id": "267f9172",
   "metadata": {},
   "outputs": [
    {
     "name": "stdout",
     "output_type": "stream",
     "text": [
      "Acc Number:1 | Acc Balance : 495 $\n"
     ]
    }
   ],
   "source": [
    "s1.withdraw(5)\n",
    "print(s1)"
   ]
  },
  {
   "cell_type": "code",
   "execution_count": 497,
   "id": "a243d3d0",
   "metadata": {},
   "outputs": [
    {
     "name": "stdout",
     "output_type": "stream",
     "text": [
      "Acc Number:1 | Acc Balance : 490 $\n"
     ]
    }
   ],
   "source": [
    "s1.withdraw(5)\n",
    "print(s1)"
   ]
  },
  {
   "cell_type": "code",
   "execution_count": 498,
   "id": "ad582c06",
   "metadata": {},
   "outputs": [
    {
     "name": "stdout",
     "output_type": "stream",
     "text": [
      "Acc Number:1 | Acc Balance : 490 $\n"
     ]
    }
   ],
   "source": [
    "s1.withdraw(5)\n",
    "print(s1)"
   ]
  },
  {
   "cell_type": "code",
   "execution_count": 499,
   "id": "0b1bdb6d",
   "metadata": {},
   "outputs": [
    {
     "name": "stdout",
     "output_type": "stream",
     "text": [
      "Acc Number:1 | Acc Balance : 490 $\n"
     ]
    }
   ],
   "source": [
    "s1.withdraw(5)\n",
    "print(s1)"
   ]
  },
  {
   "cell_type": "code",
   "execution_count": 500,
   "id": "82306e54",
   "metadata": {},
   "outputs": [
    {
     "name": "stdout",
     "output_type": "stream",
     "text": [
      "Acc Number:1 | Acc Balance : 490 $\n"
     ]
    }
   ],
   "source": [
    "s1.withdraw(5)\n",
    "print(s1)"
   ]
  },
  {
   "cell_type": "code",
   "execution_count": 501,
   "id": "e30f3e06",
   "metadata": {},
   "outputs": [
    {
     "name": "stdout",
     "output_type": "stream",
     "text": [
      "Acc Number:1 | Acc Balance : 490 $\n"
     ]
    }
   ],
   "source": [
    "s1.withdraw(5)\n",
    "print(s1)"
   ]
  },
  {
   "cell_type": "code",
   "execution_count": 502,
   "id": "5f3df01c",
   "metadata": {},
   "outputs": [
    {
     "name": "stdout",
     "output_type": "stream",
     "text": [
      "Acc Number:1 | Acc Balance : 490 $\n"
     ]
    }
   ],
   "source": [
    "s1.withdraw(5)\n",
    "print(s1)"
   ]
  },
  {
   "cell_type": "code",
   "execution_count": null,
   "id": "50b42759",
   "metadata": {},
   "outputs": [],
   "source": []
  },
  {
   "cell_type": "code",
   "execution_count": null,
   "id": "08563646",
   "metadata": {},
   "outputs": [],
   "source": []
  },
  {
   "cell_type": "code",
   "execution_count": null,
   "id": "66c094f1",
   "metadata": {},
   "outputs": [],
   "source": []
  },
  {
   "cell_type": "code",
   "execution_count": 612,
   "id": "9bdf8533",
   "metadata": {},
   "outputs": [],
   "source": [
    "class Account:\n",
    "    counter = 0\n",
    "    \n",
    "    def __init__(self, bal = 0 ):\n",
    "        self.balance = bal\n",
    "        Account.counter += 1\n",
    "        self.Acc_number= Account.counter\n",
    "        \n",
    "        self.num_transaction = 0\n",
    "        self.max_transaction = 5\n",
    "    \n",
    "    def __str__(self):\n",
    "        return f\"Acc Number:{self.Acc_number} | Acc Balance : {self.balance} $\"\n",
    "        \n",
    "    def deposit(self , amount):\n",
    "        if amount > 0 and self.num_transaction < self.max_transaction:\n",
    "            self.balance += amount\n",
    "            self.num_transaction += 1\n",
    "            print(f\"Balance is : {self.balance}\")\n",
    "        elif self.num_transaction >= self.max_transaction:\n",
    "            return f\"Max Transaction limit reached\"\n",
    "        else:\n",
    "            return f\"Invalid Amount\"\n",
    "        \n",
    "    def withdraw(self, amount):\n",
    "        if amount > 0 and self.balance >= amount and self.num_transaction < self.max_transaction:\n",
    "            self.num_transaction += 1\n",
    "            self.balance -= amount\n",
    "            print(f\"Balance is : {self.balance}\")\n",
    "        elif self.num_transaction >= self.max_transaction:\n",
    "            return f\"Max Transaction limit reached\"\n",
    "        else:\n",
    "            return \"Insufficient Balance\"\n",
    "        \n",
    "    def __repr__(self):\n",
    "        return f\"Account_Number:{self.Acc_number}\"\n",
    "    \n",
    "\n"
   ]
  },
  {
   "cell_type": "code",
   "execution_count": 613,
   "id": "706ccd70",
   "metadata": {},
   "outputs": [],
   "source": [
    "    \n",
    "class Savings_account(Account): \n",
    "    pass\n"
   ]
  },
  {
   "cell_type": "code",
   "execution_count": 614,
   "id": "9d2eaca4",
   "metadata": {},
   "outputs": [],
   "source": [
    "# class Current_account(Account):\n",
    "#     def __init__(self):\n",
    "#         self.max_transaction = 100     # this will over write the parent attributes"
   ]
  },
  {
   "cell_type": "code",
   "execution_count": 615,
   "id": "e0705cb7",
   "metadata": {},
   "outputs": [],
   "source": [
    "class Current_account(Account):\n",
    "    \n",
    "    def __init__(self):\n",
    "        super().__init__()\n",
    "        self.max_transaction = 7"
   ]
  },
  {
   "cell_type": "code",
   "execution_count": 616,
   "id": "f1e841a6",
   "metadata": {},
   "outputs": [],
   "source": [
    "c1 = Current_account()"
   ]
  },
  {
   "cell_type": "code",
   "execution_count": 617,
   "id": "757cb644",
   "metadata": {},
   "outputs": [
    {
     "name": "stdout",
     "output_type": "stream",
     "text": [
      "Balance is : 5\n"
     ]
    }
   ],
   "source": [
    "c1.deposit(5)\n"
   ]
  },
  {
   "cell_type": "code",
   "execution_count": 618,
   "id": "5dbd17d8",
   "metadata": {},
   "outputs": [
    {
     "name": "stdout",
     "output_type": "stream",
     "text": [
      "Balance is : 10\n"
     ]
    }
   ],
   "source": [
    "c1.deposit(5)\n"
   ]
  },
  {
   "cell_type": "code",
   "execution_count": 619,
   "id": "fb9e867f",
   "metadata": {},
   "outputs": [
    {
     "name": "stdout",
     "output_type": "stream",
     "text": [
      "Balance is : 15\n"
     ]
    }
   ],
   "source": [
    "c1.deposit(5)\n"
   ]
  },
  {
   "cell_type": "code",
   "execution_count": 620,
   "id": "0d62f2fa",
   "metadata": {},
   "outputs": [
    {
     "name": "stdout",
     "output_type": "stream",
     "text": [
      "Balance is : 20\n"
     ]
    }
   ],
   "source": [
    "c1.deposit(5)\n"
   ]
  },
  {
   "cell_type": "code",
   "execution_count": 621,
   "id": "0a7c8f33",
   "metadata": {},
   "outputs": [
    {
     "name": "stdout",
     "output_type": "stream",
     "text": [
      "Balance is : 25\n"
     ]
    }
   ],
   "source": [
    "c1.deposit(5)\n"
   ]
  },
  {
   "cell_type": "code",
   "execution_count": 622,
   "id": "88bcfd39",
   "metadata": {},
   "outputs": [
    {
     "name": "stdout",
     "output_type": "stream",
     "text": [
      "Balance is : 30\n"
     ]
    }
   ],
   "source": [
    "c1.deposit(5)\n"
   ]
  },
  {
   "cell_type": "code",
   "execution_count": null,
   "id": "71692af0",
   "metadata": {},
   "outputs": [],
   "source": []
  },
  {
   "cell_type": "code",
   "execution_count": 623,
   "id": "589c51ed",
   "metadata": {},
   "outputs": [
    {
     "name": "stdout",
     "output_type": "stream",
     "text": [
      "Balance is : 40\n"
     ]
    }
   ],
   "source": [
    "c1.deposit(10)"
   ]
  },
  {
   "cell_type": "code",
   "execution_count": 625,
   "id": "115c9370",
   "metadata": {},
   "outputs": [
    {
     "data": {
      "text/plain": [
       "'Max Transaction limit reached'"
      ]
     },
     "execution_count": 625,
     "metadata": {},
     "output_type": "execute_result"
    }
   ],
   "source": [
    "c1.deposit(10)"
   ]
  },
  {
   "cell_type": "code",
   "execution_count": 624,
   "id": "1533f3b9",
   "metadata": {},
   "outputs": [
    {
     "data": {
      "text/plain": [
       "'Max Transaction limit reached'"
      ]
     },
     "execution_count": 624,
     "metadata": {},
     "output_type": "execute_result"
    }
   ],
   "source": [
    "c1.withdraw(5)"
   ]
  },
  {
   "cell_type": "code",
   "execution_count": null,
   "id": "8509084d",
   "metadata": {},
   "outputs": [],
   "source": []
  },
  {
   "cell_type": "code",
   "execution_count": 626,
   "id": "0a2b908f",
   "metadata": {},
   "outputs": [],
   "source": [
    "s1 = Savings_account(10)\n"
   ]
  },
  {
   "cell_type": "code",
   "execution_count": 627,
   "id": "d5a6514c",
   "metadata": {},
   "outputs": [
    {
     "name": "stdout",
     "output_type": "stream",
     "text": [
      "Balance is : 15\n",
      "Balance is : 20\n",
      "Balance is : 25\n",
      "Balance is : 30\n"
     ]
    }
   ],
   "source": [
    "s1.deposit(5)\n",
    "s1.deposit(5)\n",
    "s1.deposit(5)\n",
    "s1.deposit(5)\n"
   ]
  },
  {
   "cell_type": "code",
   "execution_count": 628,
   "id": "603fe7c7",
   "metadata": {},
   "outputs": [
    {
     "name": "stdout",
     "output_type": "stream",
     "text": [
      "Balance is : 35\n"
     ]
    }
   ],
   "source": [
    "s1.deposit(5)"
   ]
  },
  {
   "cell_type": "code",
   "execution_count": 629,
   "id": "b8587070",
   "metadata": {},
   "outputs": [
    {
     "data": {
      "text/plain": [
       "'Max Transaction limit reached'"
      ]
     },
     "execution_count": 629,
     "metadata": {},
     "output_type": "execute_result"
    }
   ],
   "source": [
    "s1.deposit(5)"
   ]
  },
  {
   "cell_type": "code",
   "execution_count": null,
   "id": "50e8fd96",
   "metadata": {},
   "outputs": [],
   "source": []
  },
  {
   "cell_type": "code",
   "execution_count": null,
   "id": "9cc6915e",
   "metadata": {},
   "outputs": [],
   "source": []
  },
  {
   "cell_type": "code",
   "execution_count": null,
   "id": "52a58549",
   "metadata": {},
   "outputs": [],
   "source": []
  },
  {
   "cell_type": "code",
   "execution_count": 632,
   "id": "1c30a2b4",
   "metadata": {},
   "outputs": [],
   "source": [
    "def timeConv(a,b,c,d):\n",
    "    # YOUR CODE GOES HERE\n",
    "    # The code for taking input and printing output is already taken care of.\n",
    "    # Make sure to complete the functions and return the asked requirements.\n",
    "        class Spanoftime:\n",
    "            def __init__(self,h,m):\n",
    "                self.hours=h\n",
    "                self.mins=m\n",
    "            def displayTime(self):\n",
    "                return (\"{} hours and {} min\".format(self.hours,self.mins))\n",
    "\n",
    "            def addTime(t1,t2):\n",
    "                t3=Spanoftime(0,0)\n",
    "                \n",
    "                # Complete the function\n",
    "                return t3\n",
    "            def returnMinutes(t1,t2):\n",
    "                pass\n",
    "                # Return the total number of minutes\n",
    "\n",
    "        t1=Spanoftime(a,b)\n",
    "        t2=Spanoftime(c,d)\n",
    "        t3=Spanoftime.addTime(t1,t2)\n",
    "        t3.displayTime()\n",
    "        totalmin=str(Spanoftime.returnMinutes(t1,t2))\n",
    "        return t3.displayTime(),(\"The total minutes in time t1 and t2 are: \" + totalmin)"
   ]
  },
  {
   "cell_type": "code",
   "execution_count": 633,
   "id": "9620de22",
   "metadata": {},
   "outputs": [
    {
     "data": {
      "text/plain": [
       "('0 hours and 0 min', 'The total minutes in time t1 and t2 are: None')"
      ]
     },
     "execution_count": 633,
     "metadata": {},
     "output_type": "execute_result"
    }
   ],
   "source": [
    "timeConv(1,1,1,1)"
   ]
  },
  {
   "cell_type": "code",
   "execution_count": 634,
   "id": "5b56d6b3",
   "metadata": {},
   "outputs": [
    {
     "data": {
      "text/plain": [
       "('0 hours and 0 min', 'The total minutes in time t1 and t2 are: None')"
      ]
     },
     "execution_count": 634,
     "metadata": {},
     "output_type": "execute_result"
    }
   ],
   "source": [
    "timeConv(2,2,2,2)"
   ]
  },
  {
   "cell_type": "code",
   "execution_count": null,
   "id": "9a02d8e7",
   "metadata": {},
   "outputs": [],
   "source": []
  },
  {
   "cell_type": "code",
   "execution_count": 656,
   "id": "957ccf7c",
   "metadata": {},
   "outputs": [],
   "source": [
    "class Spanoftime:\n",
    "    def __init__(self,h,m):\n",
    "        self.hours = h\n",
    "        self.mins = m \n",
    "    \n",
    "    def display(self):\n",
    "        return \"{} hours and {} min\".format(self.hours,self.mins)\n",
    "    \n",
    "    def addTime(self,nh,nm):\n",
    "        self.hours += nh\n",
    "        self.mins += nm\n",
    "    \n",
    "    def returnMinutes(self):\n",
    "        m1 = self.hours * 60\n",
    "        m2 = self.mins\n",
    "        \n",
    "        return m1 + m2"
   ]
  },
  {
   "cell_type": "code",
   "execution_count": 657,
   "id": "86d41674",
   "metadata": {},
   "outputs": [],
   "source": [
    "t1 = Spanoftime(1,1)"
   ]
  },
  {
   "cell_type": "code",
   "execution_count": 658,
   "id": "7401e620",
   "metadata": {},
   "outputs": [
    {
     "data": {
      "text/plain": [
       "'1 hours and 1 min'"
      ]
     },
     "execution_count": 658,
     "metadata": {},
     "output_type": "execute_result"
    }
   ],
   "source": [
    "t1.display()"
   ]
  },
  {
   "cell_type": "code",
   "execution_count": 659,
   "id": "b430f3bc",
   "metadata": {},
   "outputs": [],
   "source": [
    "t1.addTime(1,1)"
   ]
  },
  {
   "cell_type": "code",
   "execution_count": 660,
   "id": "2d8b8580",
   "metadata": {},
   "outputs": [
    {
     "data": {
      "text/plain": [
       "'2 hours and 2 min'"
      ]
     },
     "execution_count": 660,
     "metadata": {},
     "output_type": "execute_result"
    }
   ],
   "source": [
    "t1.display()"
   ]
  },
  {
   "cell_type": "code",
   "execution_count": 662,
   "id": "1e390a40",
   "metadata": {},
   "outputs": [
    {
     "data": {
      "text/plain": [
       "122"
      ]
     },
     "execution_count": 662,
     "metadata": {},
     "output_type": "execute_result"
    }
   ],
   "source": [
    "t1.returnMinutes()"
   ]
  },
  {
   "cell_type": "code",
   "execution_count": null,
   "id": "faf56990",
   "metadata": {},
   "outputs": [],
   "source": []
  },
  {
   "cell_type": "code",
   "execution_count": 684,
   "id": "7f63c589",
   "metadata": {},
   "outputs": [],
   "source": [
    "def timeConv(a,b,c,d):\n",
    "    # YOUR CODE GOES HERE\n",
    "    # The code for taking input and printing output is already taken care of.\n",
    "    # Make sure to complete the functions and return the asked requirements.\n",
    "    class Spanoftime:\n",
    "        def __init__(self,h,m):\n",
    "            self.hours = h\n",
    "            self.mins = m \n",
    "        \n",
    "        def display(self):\n",
    "            return \"{} hours and {} min\".format(self.hours,self.mins)\n",
    "        \n",
    "        \n",
    "        def addTime(t1,t2):\n",
    "            \n",
    "            __hours += t1\n",
    "            __mins += t2\n",
    "            \n",
    "            \n",
    "        def returnMinutes(self):\n",
    "            m1 = self.hours * 60\n",
    "            m2 = self.mins\n",
    "            \n",
    "            return m1 + m2\n",
    "        \n",
    "    t1=Spanoftime(a,b)\n",
    "    t2=Spanoftime(c,d)\n",
    "    t3=Spanoftime.addTime(t1,t2)\n",
    "    t3.displayTime()\n",
    "    totalmin=str(Spanoftime.returnMinutes(t1,t2))\n",
    "    return t3.displayTime(),(\"The total minutes in time t1 and t2 are: \" + totalmin)"
   ]
  },
  {
   "cell_type": "code",
   "execution_count": 1,
   "id": "8adce530",
   "metadata": {},
   "outputs": [],
   "source": [
    "# timeConv(1,1,1,1)"
   ]
  },
  {
   "cell_type": "code",
   "execution_count": null,
   "id": "ecf9f0c8",
   "metadata": {},
   "outputs": [],
   "source": []
  },
  {
   "cell_type": "code",
   "execution_count": null,
   "id": "83ad7052",
   "metadata": {},
   "outputs": [],
   "source": []
  },
  {
   "cell_type": "code",
   "execution_count": null,
   "id": "8d56bb61",
   "metadata": {},
   "outputs": [],
   "source": []
  },
  {
   "cell_type": "code",
   "execution_count": null,
   "id": "9879afb8",
   "metadata": {},
   "outputs": [],
   "source": []
  },
  {
   "cell_type": "code",
   "execution_count": null,
   "id": "ebdc287c",
   "metadata": {},
   "outputs": [],
   "source": []
  },
  {
   "cell_type": "code",
   "execution_count": null,
   "id": "df269369",
   "metadata": {},
   "outputs": [],
   "source": []
  },
  {
   "cell_type": "code",
   "execution_count": null,
   "id": "4c7a1741",
   "metadata": {},
   "outputs": [],
   "source": []
  },
  {
   "cell_type": "code",
   "execution_count": null,
   "id": "39dc434a",
   "metadata": {},
   "outputs": [],
   "source": []
  },
  {
   "cell_type": "code",
   "execution_count": null,
   "id": "01081420",
   "metadata": {},
   "outputs": [],
   "source": []
  },
  {
   "cell_type": "code",
   "execution_count": null,
   "id": "818ab68d",
   "metadata": {},
   "outputs": [],
   "source": []
  },
  {
   "cell_type": "code",
   "execution_count": null,
   "id": "97fc4f4f",
   "metadata": {},
   "outputs": [],
   "source": []
  },
  {
   "cell_type": "code",
   "execution_count": null,
   "id": "6f529d08",
   "metadata": {},
   "outputs": [],
   "source": []
  },
  {
   "cell_type": "code",
   "execution_count": null,
   "id": "c15316c1",
   "metadata": {},
   "outputs": [],
   "source": []
  },
  {
   "cell_type": "code",
   "execution_count": null,
   "id": "f33af192",
   "metadata": {},
   "outputs": [],
   "source": []
  },
  {
   "cell_type": "code",
   "execution_count": null,
   "id": "39bf2802",
   "metadata": {},
   "outputs": [],
   "source": []
  },
  {
   "attachments": {
    "image.png": {
     "image/png": "[encoded data removed]"
    }
   },
   "cell_type": "markdown",
   "id": "9ce0d2dd",
   "metadata": {},
   "source": [
    "![image.png](attachment:image.png)"
   ]
  },
  {
   "cell_type": "code",
   "execution_count": null,
   "id": "da625643",
   "metadata": {},
   "outputs": [],
   "source": []
  },
  {
   "cell_type": "code",
   "execution_count": null,
   "id": "28e85fc8",
   "metadata": {},
   "outputs": [],
   "source": []
  },
  {
   "cell_type": "code",
   "execution_count": null,
   "id": "29ac6952",
   "metadata": {},
   "outputs": [],
   "source": []
  },
  {
   "cell_type": "code",
   "execution_count": 37,
   "id": "a2e8b08e",
   "metadata": {},
   "outputs": [
    {
     "name": "stdout",
     "output_type": "stream",
     "text": [
      "Sunny Panchal\n",
      "Salary Now : 88400\n",
      "\n",
      "3\n",
      "\n",
      "1.05\n",
      "\n",
      "Salary Now : 107000\n",
      "\n",
      "1.07\n",
      "1.07\n",
      "1.07\n"
     ]
    }
   ],
   "source": [
    "class Employee:\n",
    "    \n",
    "    num_of_employee = 0\n",
    "    raise_amt = 1.04\n",
    "    \n",
    "    def __init__(self,fname,lname,pay):\n",
    "        self.first = fname\n",
    "        self.last = lname\n",
    "        self.salary = pay\n",
    "        self.email = fname + \".\" + lname + \"@company.com\"\n",
    "        \n",
    "        Employee.num_of_employee += 1\n",
    "    \n",
    "    \n",
    "    def full_name(self):\n",
    "        return f\"{self.first} {self.last}\"\n",
    "    \n",
    "    def apply_raise(self):\n",
    "        self.salary = int(self.salary * Employee.raise_amt)\n",
    "        return f\"Salary Now : {self.salary}\"\n",
    "    @classmethod\n",
    "    def set_raise_amt(cls,amount):\n",
    "        cls.raise_amt = amount\n",
    "    \n",
    "    \n",
    "    \n",
    "emp1 = Employee(\"Sunny\",\"Panchal\",85000)\n",
    "emp2 = Employee(\"Anant\",\"Mittal\",95000)\n",
    "emp3 = Employee(\"Corey\",\"Schafer\",100000)\n",
    "\n",
    "print(emp1.full_name())\n",
    "print(emp1.apply_raise())\n",
    "print()\n",
    "print(Employee.num_of_employee)\n",
    "print()\n",
    "Employee.set_raise_amt(1.05)\n",
    "\n",
    "print(emp3.raise_amt)\n",
    "print()\n",
    "emp3.set_raise_amt(1.07)\n",
    "print(emp3.apply_raise())\n",
    "\n",
    "print()\n",
    "print(emp1.raise_amt)\n",
    "print(emp2.raise_amt)\n",
    "print(emp3.raise_amt)\n"
   ]
  },
  {
   "cell_type": "code",
   "execution_count": null,
   "id": "c251be45",
   "metadata": {},
   "outputs": [],
   "source": []
  },
  {
   "cell_type": "code",
   "execution_count": null,
   "id": "ffa5ffd5",
   "metadata": {},
   "outputs": [],
   "source": []
  },
  {
   "cell_type": "code",
   "execution_count": null,
   "id": "d84c7705",
   "metadata": {},
   "outputs": [],
   "source": []
  },
  {
   "cell_type": "markdown",
   "id": "b0189d9e",
   "metadata": {},
   "source": [
    "# class method"
   ]
  },
  {
   "cell_type": "code",
   "execution_count": 59,
   "id": "a11af94f",
   "metadata": {},
   "outputs": [
    {
     "name": "stdout",
     "output_type": "stream",
     "text": [
      "No of total Employees: 5\n",
      "\n",
      "Steve\n",
      "Steve.Smith@company.com\n"
     ]
    }
   ],
   "source": [
    "class Employee:\n",
    "    \n",
    "    num_of_employee = 0\n",
    "    raise_amt = 1.04\n",
    "    \n",
    "    def __init__(self,first,last,pay):\n",
    "        self.first = first\n",
    "        self.last = last\n",
    "        self.pay = pay\n",
    "        self.email = first + \".\" + last + \"@company.com\"\n",
    "        \n",
    "        Employee.num_of_employee += 1\n",
    "    \n",
    "    \n",
    "    def full_name(self):\n",
    "        return f\"{self.first} {self.last}\"\n",
    "    \n",
    "    def apply_raise(self):\n",
    "        self.salary = int(self.pay * Employee.raise_amt)\n",
    "        return f\"Salary Now : {self.pay}\"\n",
    "    \n",
    "    @classmethod\n",
    "    def set_raise_amt(cls,amount):\n",
    "        cls.raise_amt = amount\n",
    "    \n",
    "    \n",
    "    \n",
    "    @classmethod\n",
    "    def from_string(cls,emp_str):\n",
    "        first , last , pay =emp_str.split(\"-\")\n",
    "        return cls(first,last,pay)\n",
    "        \n",
    "    \n",
    "    \n",
    "    \n",
    "emp1 = Employee(\"Sunny\",\"Panchal\",85000)\n",
    "emp2 = Employee(\"Anant\",\"Mittal\",95000)\n",
    "emp3 = Employee(\"Corey\",\"Schafer\",100000)\n",
    "\n",
    "\n",
    "emp_str_4 = \"John-Doe-70000\"\n",
    "first,last,pay =emp_str_4.split(\"-\")\n",
    "emp4 = Employee(first,last,pay)\n",
    "\n",
    "\n",
    "emp_str_5 = \"Steve-Smith-45000\"\n",
    "emp5 = Employee.from_string(emp_str_5)\n",
    "\n",
    "\n",
    "\n",
    "\n",
    "print(\"No of total Employees:\",Employee.num_of_employee)\n",
    "print()\n",
    "print(emp5.first)\n",
    "print(emp5.email)\n",
    "\n",
    "\n"
   ]
  },
  {
   "cell_type": "code",
   "execution_count": null,
   "id": "a47a5a49",
   "metadata": {},
   "outputs": [],
   "source": []
  },
  {
   "cell_type": "code",
   "execution_count": null,
   "id": "639dcc35",
   "metadata": {},
   "outputs": [],
   "source": []
  },
  {
   "cell_type": "markdown",
   "id": "c00b70ec",
   "metadata": {},
   "source": [
    "# static method"
   ]
  },
  {
   "cell_type": "code",
   "execution_count": 63,
   "id": "adacb5f7",
   "metadata": {},
   "outputs": [],
   "source": [
    "import datetime"
   ]
  },
  {
   "cell_type": "code",
   "execution_count": 74,
   "id": "4e489ab8",
   "metadata": {},
   "outputs": [
    {
     "name": "stdout",
     "output_type": "stream",
     "text": [
      "True\n",
      "False\n"
     ]
    }
   ],
   "source": [
    "class Employee:\n",
    "    \n",
    "    num_of_employee = 0\n",
    "    raise_amt = 1.04\n",
    "    \n",
    "    def __init__(self,first,last,pay):\n",
    "        self.first = first\n",
    "        self.last = last\n",
    "        self.pay = pay\n",
    "        self.email = first + \".\" + last + \"@company.com\"\n",
    "        \n",
    "        Employee.num_of_employee += 1\n",
    "    \n",
    "    \n",
    "    def full_name(self):\n",
    "        return f\"{self.first} {self.last}\"\n",
    "    \n",
    "    def apply_raise(self):\n",
    "        self.salary = int(self.pay * Employee.raise_amt)\n",
    "        return f\"Salary Now : {self.pay}\"\n",
    "    \n",
    "    @classmethod\n",
    "    def set_raise_amt(cls,amount):\n",
    "        cls.raise_amt = amount\n",
    "    \n",
    "    \n",
    "    \n",
    "    @classmethod\n",
    "    def from_string(cls,emp_str):\n",
    "        first , last , pay =emp_str.split(\"-\")\n",
    "        return cls(first,last,pay)\n",
    "        \n",
    "    @staticmethod\n",
    "    def is_workday(day):\n",
    "        if day.weekday() == 5 or day.weekday() == 6:\n",
    "            return False\n",
    "        return True\n",
    "    \n",
    "    \n",
    "    \n",
    "emp1 = Employee(\"Sunny\",\"Panchal\",85000)\n",
    "emp2 = Employee(\"Anant\",\"Mittal\",95000)\n",
    "emp3 = Employee(\"Corey\",\"Schafer\",100000)\n",
    "\n",
    "\n",
    "emp_str_4 = \"John-Doe-70000\"\n",
    "first,last,pay =emp_str_4.split(\"-\")\n",
    "emp4 = Employee(first,last,pay)\n",
    "\n",
    "\n",
    "emp_str_5 = \"Steve-Smith-45000\"\n",
    "emp5 = Employee.from_string(emp_str_5)\n",
    "\n",
    "\n",
    "\n",
    "\n",
    "print(Employee.is_workday(datetime.date(2022,6,2)))\n",
    "print(Employee.is_workday(datetime.date(2022,6,4)))"
   ]
  },
  {
   "cell_type": "code",
   "execution_count": null,
   "id": "ac926acc",
   "metadata": {},
   "outputs": [],
   "source": []
  },
  {
   "cell_type": "code",
   "execution_count": null,
   "id": "78d58a0b",
   "metadata": {},
   "outputs": [],
   "source": []
  },
  {
   "cell_type": "code",
   "execution_count": null,
   "id": "8084abe1",
   "metadata": {},
   "outputs": [],
   "source": []
  },
  {
   "cell_type": "code",
   "execution_count": null,
   "id": "355ee8c4",
   "metadata": {},
   "outputs": [],
   "source": []
  },
  {
   "cell_type": "markdown",
   "id": "eefdcaea",
   "metadata": {},
   "source": [
    "## inheritance "
   ]
  },
  {
   "cell_type": "code",
   "execution_count": null,
   "id": "4955cd58",
   "metadata": {},
   "outputs": [],
   "source": []
  },
  {
   "cell_type": "code",
   "execution_count": 85,
   "id": "00864c46",
   "metadata": {},
   "outputs": [
    {
     "name": "stdout",
     "output_type": "stream",
     "text": [
      "Help on class Developer in module __main__:\n",
      "\n",
      "class Developer(Employee)\n",
      " |  Developer(first, last, pay)\n",
      " |  \n",
      " |  Method resolution order:\n",
      " |      Developer\n",
      " |      Employee\n",
      " |      builtins.object\n",
      " |  \n",
      " |  Methods inherited from Employee:\n",
      " |  \n",
      " |  __init__(self, first, last, pay)\n",
      " |      Initialize self.  See help(type(self)) for accurate signature.\n",
      " |  \n",
      " |  apply_raise(self)\n",
      " |  \n",
      " |  full_name(self)\n",
      " |  \n",
      " |  ----------------------------------------------------------------------\n",
      " |  Class methods inherited from Employee:\n",
      " |  \n",
      " |  from_string(emp_str) from builtins.type\n",
      " |  \n",
      " |  set_raise_amt(amount) from builtins.type\n",
      " |  \n",
      " |  ----------------------------------------------------------------------\n",
      " |  Static methods inherited from Employee:\n",
      " |  \n",
      " |  is_workday(day)\n",
      " |  \n",
      " |  ----------------------------------------------------------------------\n",
      " |  Data descriptors inherited from Employee:\n",
      " |  \n",
      " |  __dict__\n",
      " |      dictionary for instance variables (if defined)\n",
      " |  \n",
      " |  __weakref__\n",
      " |      list of weak references to the object (if defined)\n",
      " |  \n",
      " |  ----------------------------------------------------------------------\n",
      " |  Data and other attributes inherited from Employee:\n",
      " |  \n",
      " |  num_of_employee = 2\n",
      " |  \n",
      " |  raise_amt = 1.04\n",
      "\n",
      "None\n"
     ]
    }
   ],
   "source": [
    "class Employee:\n",
    "    \n",
    "    num_of_employee = 0\n",
    "    raise_amt = 1.04\n",
    "    \n",
    "    def __init__(self,first,last,pay):\n",
    "        self.first = first\n",
    "        self.last = last\n",
    "        self.pay = pay\n",
    "        self.email = first + \".\" + last + \"@company.com\"\n",
    "        \n",
    "        Employee.num_of_employee += 1\n",
    "    \n",
    "    \n",
    "    def full_name(self):\n",
    "        return f\"{self.first} {self.last}\"\n",
    "    \n",
    "    def apply_raise(self):\n",
    "        self.salary = int(self.pay * Employee.raise_amt)\n",
    "        return f\"Salary Now : {self.pay}\"\n",
    "    \n",
    "    @classmethod\n",
    "    def set_raise_amt(cls,amount):\n",
    "        cls.raise_amt = amount\n",
    "    \n",
    "    \n",
    "    \n",
    "    @classmethod\n",
    "    def from_string(cls,emp_str):\n",
    "        first , last , pay =emp_str.split(\"-\")\n",
    "        return cls(first,last,pay)\n",
    "        \n",
    "    @staticmethod\n",
    "    def is_workday(day):\n",
    "        if day.weekday() == 5 or day.weekday() == 6:\n",
    "            return False\n",
    "        return True\n",
    "    \n",
    "\n",
    "    \n",
    "class Developer(Employee):\n",
    "    pass\n",
    "\n",
    "    \n",
    "\n",
    "dev1 = Developer.from_string(\"Agent-Smith-85200\")\n",
    "# print(dev1.pay)\n",
    "dev2 = Developer.from_string(\"Neo-Anderson-150000\")\n",
    "# print(dev2.email)\n",
    "print(help(Developer))"
   ]
  },
  {
   "cell_type": "code",
   "execution_count": null,
   "id": "8a77e561",
   "metadata": {},
   "outputs": [],
   "source": []
  },
  {
   "cell_type": "code",
   "execution_count": null,
   "id": "8d9cd30c",
   "metadata": {},
   "outputs": [],
   "source": []
  },
  {
   "cell_type": "code",
   "execution_count": null,
   "id": "6e296af1",
   "metadata": {},
   "outputs": [],
   "source": []
  },
  {
   "cell_type": "code",
   "execution_count": 115,
   "id": "83982e7b",
   "metadata": {},
   "outputs": [
    {
     "name": "stdout",
     "output_type": "stream",
     "text": [
      "100000\n",
      "1.04\n",
      "104000\n",
      "\n",
      "150000\n",
      "1.1\n",
      "165000\n",
      "\n"
     ]
    }
   ],
   "source": [
    "class Employee:\n",
    "    \n",
    "    num_of_employee = 0\n",
    "    raise_amt = 1.04\n",
    "    \n",
    "    def __init__(self,first,last,pay):\n",
    "        self.first = first\n",
    "        self.last = last\n",
    "        self.pay = pay\n",
    "        self.email = first + \".\" + last + \"@company.com\"\n",
    "        \n",
    "        Employee.num_of_employee += 1\n",
    "    \n",
    "    \n",
    "    def full_name(self):\n",
    "        return f\"{self.first} {self.last}\"\n",
    "    \n",
    "    def apply_raise(self):\n",
    "        self.pay = int(self.pay * self.raise_amt)\n",
    "        return f\"Salary Now : {self.pay}\"\n",
    "    \n",
    "    @classmethod\n",
    "    def set_raise_amt(cls,amount):\n",
    "        cls.raise_amt = amount\n",
    "    \n",
    "    \n",
    "    \n",
    "    @classmethod\n",
    "    def from_string(cls,emp_str):\n",
    "        first , last , pay =emp_str.split(\"-\")\n",
    "        return cls(first,last,int(pay))\n",
    "        \n",
    "\n",
    "\n",
    "    \n",
    "class Developer(Employee):\n",
    "    raise_amt = 1.10\n",
    "\n",
    "\n",
    "Emp1 = Employee(\"Sunny\",\"Panchal\",100000)\n",
    "print(Emp1.pay)\n",
    "print(Employee.raise_amt)\n",
    "Emp1.apply_raise()\n",
    "print(Emp1.pay)\n",
    "print()\n",
    "dev2 = Developer(\"Neo\",\"Anderson\",150000)\n",
    "print(dev2.pay)\n",
    "print(Developer.raise_amt)\n",
    "dev2.apply_raise()\n",
    "print(dev2.pay)\n",
    "dev2.raise_amt\n",
    "print()\n",
    "\n"
   ]
  },
  {
   "cell_type": "code",
   "execution_count": null,
   "id": "3ee023df",
   "metadata": {},
   "outputs": [],
   "source": []
  },
  {
   "cell_type": "code",
   "execution_count": null,
   "id": "8b8a7c9a",
   "metadata": {},
   "outputs": [],
   "source": []
  },
  {
   "cell_type": "code",
   "execution_count": null,
   "id": "5a28b729",
   "metadata": {},
   "outputs": [],
   "source": []
  },
  {
   "cell_type": "code",
   "execution_count": 141,
   "id": "d53aa840",
   "metadata": {},
   "outputs": [
    {
     "name": "stdout",
     "output_type": "stream",
     "text": [
      "\n",
      "C++\n",
      "Bruce.Banner@Avengers.com\n",
      "\n",
      ">>-  Bruce Banner\n",
      ">>-  Steve Rogers\n",
      ">>-  Hack Eye\n",
      "\n",
      "Tony.Stark@Avengers.com\n",
      "\n",
      ">>-  Bruce Banner\n",
      ">>-  Steve Rogers\n"
     ]
    }
   ],
   "source": [
    "class Employee:\n",
    "    \n",
    "    num_of_employee = 0\n",
    "    raise_amt = 1.04\n",
    "    \n",
    "    def __init__(self,first,last,pay):\n",
    "        self.first = first\n",
    "        self.last = last\n",
    "        self.pay = pay\n",
    "        self.email = first + \".\" + last + \"@Avengers.com\"\n",
    "        \n",
    "        Employee.num_of_employee += 1\n",
    "    \n",
    "    \n",
    "    def full_name(self):\n",
    "        return f\"{self.first} {self.last}\"\n",
    "    \n",
    "    def apply_raise(self):\n",
    "        self.pay = int(self.pay * self.raise_amt)\n",
    "        return f\"Salary Now : {self.pay}\"\n",
    "    \n",
    "    @classmethod\n",
    "    def set_raise_amt(cls,amount):\n",
    "        cls.raise_amt = amount\n",
    "    \n",
    "    \n",
    "    \n",
    "    @classmethod\n",
    "    def from_string(cls,emp_str):\n",
    "        first , last , pay =emp_str.split(\"-\")\n",
    "        return cls(first,last,int(pay))\n",
    "        \n",
    "\n",
    "\n",
    "    \n",
    "class Developer(Employee):\n",
    "    raise_amt = 1.10\n",
    "        \n",
    "    def __init__(self , first,last,pay, prog_lang):\n",
    "        super().__init__(first,last,pay)\n",
    "        self.prog_lang = prog_lang\n",
    "    \n",
    "class Manager(Employee):\n",
    "    \n",
    "    def __init__(self , first,last,pay, employees = None):\n",
    "        super().__init__(first,last,pay)\n",
    "        if employees is None:\n",
    "            self.employees = []\n",
    "        else:\n",
    "            self.employees = employees\n",
    "    \n",
    "    def add_emp(self,emp):\n",
    "        if emp not in self.employees:\n",
    "            self.employees.append(emp)\n",
    "    \n",
    "    def remove_emp(self,emp):\n",
    "        if emp  in self.employees:\n",
    "            self.employees.remove(emp)\n",
    "            \n",
    "    def print_employees(self):\n",
    "        for emp in self.employees:\n",
    "            print(\">>- \",emp.full_name())\n",
    "    \n",
    "\n",
    "    \n",
    "    \n",
    "    \n",
    "    \n",
    "Emp1 = Employee(\"Sunny\",\"Panchal\",100000)\n",
    "\n",
    "\n",
    "Emp1.apply_raise()\n",
    "\n",
    "dev1 = Developer(\"Steve\",\"Rogers\",150000,\"Excel\")\n",
    "dev2 = Developer(\"Bruce\",\"Banner\",150000,\"C++\")\n",
    "dev3 = Developer(\"Hack\",\"Eye\",150000,\"Non\") \n",
    "\n",
    "dev2.apply_raise()\n",
    "# print(dev2.pay)\n",
    "dev2.raise_amt\n",
    "print()\n",
    "print(dev2.prog_lang)\n",
    "print(dev2.email)\n",
    "print()\n",
    "\n",
    "M1 = Manager(\"Tony\",\"Stark\",500000,[dev2,dev1,dev3])\n",
    "\n",
    "M1.print_employees()\n",
    "print()\n",
    "print(M1.email)\n",
    "\n",
    "M1.remove_emp(dev3)\n",
    "print()\n",
    "M1.print_employees()"
   ]
  },
  {
   "cell_type": "code",
   "execution_count": null,
   "id": "6b37acfd",
   "metadata": {},
   "outputs": [],
   "source": []
  },
  {
   "cell_type": "code",
   "execution_count": 142,
   "id": "e15cb887",
   "metadata": {},
   "outputs": [
    {
     "data": {
      "text/plain": [
       "True"
      ]
     },
     "execution_count": 142,
     "metadata": {},
     "output_type": "execute_result"
    }
   ],
   "source": [
    "isinstance(M1,Manager)"
   ]
  },
  {
   "cell_type": "code",
   "execution_count": 143,
   "id": "853a8553",
   "metadata": {},
   "outputs": [
    {
     "data": {
      "text/plain": [
       "True"
      ]
     },
     "execution_count": 143,
     "metadata": {},
     "output_type": "execute_result"
    }
   ],
   "source": [
    "isinstance(M1,Employee)"
   ]
  },
  {
   "cell_type": "code",
   "execution_count": 144,
   "id": "3d8465fe",
   "metadata": {},
   "outputs": [
    {
     "data": {
      "text/plain": [
       "False"
      ]
     },
     "execution_count": 144,
     "metadata": {},
     "output_type": "execute_result"
    }
   ],
   "source": [
    "isinstance(M1,Developer)"
   ]
  },
  {
   "cell_type": "code",
   "execution_count": 152,
   "id": "b2d4a220",
   "metadata": {},
   "outputs": [
    {
     "data": {
      "text/plain": [
       "False"
      ]
     },
     "execution_count": 152,
     "metadata": {},
     "output_type": "execute_result"
    }
   ],
   "source": [
    "issubclass(Employee,Developer)"
   ]
  },
  {
   "cell_type": "code",
   "execution_count": 153,
   "id": "f519b39d",
   "metadata": {},
   "outputs": [
    {
     "data": {
      "text/plain": [
       "True"
      ]
     },
     "execution_count": 153,
     "metadata": {},
     "output_type": "execute_result"
    }
   ],
   "source": [
    "issubclass(Developer,Employee)"
   ]
  },
  {
   "cell_type": "code",
   "execution_count": 154,
   "id": "72c499b0",
   "metadata": {},
   "outputs": [
    {
     "data": {
      "text/plain": [
       "True"
      ]
     },
     "execution_count": 154,
     "metadata": {},
     "output_type": "execute_result"
    }
   ],
   "source": [
    "issubclass(Manager,Employee)"
   ]
  },
  {
   "cell_type": "code",
   "execution_count": 155,
   "id": "fb5856b2",
   "metadata": {},
   "outputs": [
    {
     "data": {
      "text/plain": [
       "False"
      ]
     },
     "execution_count": 155,
     "metadata": {},
     "output_type": "execute_result"
    }
   ],
   "source": [
    "issubclass(Manager,Developer)"
   ]
  },
  {
   "cell_type": "code",
   "execution_count": null,
   "id": "f677e980",
   "metadata": {},
   "outputs": [],
   "source": []
  },
  {
   "cell_type": "code",
   "execution_count": null,
   "id": "b5e78556",
   "metadata": {},
   "outputs": [],
   "source": []
  },
  {
   "cell_type": "code",
   "execution_count": null,
   "id": "d73a3d44",
   "metadata": {},
   "outputs": [],
   "source": []
  },
  {
   "cell_type": "code",
   "execution_count": null,
   "id": "2bf16e5a",
   "metadata": {},
   "outputs": [],
   "source": []
  },
  {
   "cell_type": "markdown",
   "id": "49dcd834",
   "metadata": {},
   "source": [
    "## dunder methods"
   ]
  },
  {
   "cell_type": "code",
   "execution_count": null,
   "id": "73a028ba",
   "metadata": {},
   "outputs": [],
   "source": []
  },
  {
   "cell_type": "code",
   "execution_count": 244,
   "id": "1fd38d6f",
   "metadata": {},
   "outputs": [
    {
     "name": "stdout",
     "output_type": "stream",
     "text": [
      "<__main__.Avengers object at 0x000002A6AAE768E0>\n",
      "<__main__.Avengers object at 0x000002A6AAE768E0>\n",
      "<__main__.Avengers object at 0x000002A6AAE768E0>\n"
     ]
    }
   ],
   "source": [
    "class Avengers:\n",
    "    \n",
    "    raise_amt = 1.04\n",
    "    num_of_super_heros = 0\n",
    "    \n",
    "    def __init__(self, first , last ,super_hero_name, pay):\n",
    "        self.first = first\n",
    "        self.last = last\n",
    "        self.super_hero_name = super_hero_name\n",
    "        self.email = super_hero_name.lower() + \".\" + last.lower() + \"avengers.com\"\n",
    "        \n",
    "        Avengers.num_of_super_heros  += 1\n",
    "    \n",
    "    def full_name(self):\n",
    "        return f\"{self.first} {self.last}\"\n",
    "    \n",
    "    def apply_raise(self):\n",
    "        self.pay = int(self.pay * self.raise_amt)\n",
    "        \n",
    "    \n",
    "    \n",
    "    \n",
    "    \n",
    "    \n",
    "    \n",
    "    \n",
    "h1 = Avengers(\"Steve\",\"Rogers\",\"Captain America\",200000)\n",
    "h2 = Avengers(\"Tony\",\"Stark\",\"Iron Man\",500000)\n",
    "h3 = Avengers(\"Natasha\",\"Romonoff\",\"Black Widow\",100000)\n",
    "h4 = Avengers(\"Thor\",\"Odin Son\",\"God of Thunder\",10000)\n",
    "\n",
    "\n",
    "print(h1)\n",
    "\n",
    "print(repr(h1))\n",
    "print(str(h1))"
   ]
  },
  {
   "cell_type": "code",
   "execution_count": null,
   "id": "ed7476ea",
   "metadata": {},
   "outputs": [],
   "source": []
  },
  {
   "cell_type": "code",
   "execution_count": 274,
   "id": "98c694c7",
   "metadata": {},
   "outputs": [
    {
     "name": "stdout",
     "output_type": "stream",
     "text": [
      "Avenger: Steve , captainamerica.rogers@avengers.com\n",
      "\n",
      "Avenger: Tony , ironman.stark@avengers.com\n",
      "Avenger : Iron Man\n",
      "Pay: 500000\n"
     ]
    }
   ],
   "source": [
    "class Avengers:\n",
    "    \n",
    "    raise_amt = 1.04\n",
    "    num_of_super_heros = 0\n",
    "    \n",
    "    def __init__(self, first , last ,super_hero_name, pay):\n",
    "        self.first = first\n",
    "        self.last = last\n",
    "        self.super_hero_name = super_hero_name\n",
    "        self.email = (\"\".join((super_hero_name).split())).lower() + \".\" + last.lower() + \"@avengers.com\"\n",
    "        self.pay = pay\n",
    "        Avengers.num_of_super_heros  += 1\n",
    "    \n",
    "    def full_name(self):\n",
    "        return f\"{self.first} {self.last}\"\n",
    "    \n",
    "    def apply_raise(self):\n",
    "        self.pay = int(self.pay * self.raise_amt)\n",
    "    \n",
    "    def __repr__(self):\n",
    "        return f\"Avenger : {self.super_hero_name}\\nPay: {self.pay}\"\n",
    "    \n",
    "    def __str__(self):\n",
    "        return f\"Avenger: {self.first} , {self.email}\"\n",
    "    \n",
    "    \n",
    "    \n",
    "    \n",
    "    \n",
    "    \n",
    "h1 = Avengers(\"Steve\",\"Rogers\",\"Captain America\",200000)\n",
    "h2 = Avengers(\"Tony\",\"Stark\",\"Iron Man\",500000)\n",
    "h3 = Avengers(\"Natasha\",\"Romonoff\",\"Black Widow\",100000)\n",
    "h4 = Avengers(\"Thor\",\"Odin Son\",\"God of Thunder\",10000)\n",
    "\n",
    "\n",
    "print(h1)\n",
    "\n",
    "print()\n",
    "print(h2.__str__())\n",
    "print(h2.__repr__())\n",
    "\n",
    "\n"
   ]
  },
  {
   "cell_type": "code",
   "execution_count": 271,
   "id": "b9aeea2c",
   "metadata": {},
   "outputs": [
    {
     "data": {
      "text/plain": [
       "Avenger : Captain America\n",
       "Pay: 200000"
      ]
     },
     "execution_count": 271,
     "metadata": {},
     "output_type": "execute_result"
    }
   ],
   "source": [
    "h1"
   ]
  },
  {
   "cell_type": "code",
   "execution_count": 272,
   "id": "7be7a49f",
   "metadata": {},
   "outputs": [
    {
     "name": "stdout",
     "output_type": "stream",
     "text": [
      "Avenger: Steve , captainamerica.rogers@avengers.com\n"
     ]
    }
   ],
   "source": [
    "print(h1)"
   ]
  },
  {
   "cell_type": "code",
   "execution_count": null,
   "id": "129e19e8",
   "metadata": {},
   "outputs": [],
   "source": [
    "\n"
   ]
  },
  {
   "cell_type": "code",
   "execution_count": null,
   "id": "b944d29b",
   "metadata": {},
   "outputs": [],
   "source": []
  },
  {
   "cell_type": "code",
   "execution_count": null,
   "id": "3bce790b",
   "metadata": {},
   "outputs": [],
   "source": []
  },
  {
   "cell_type": "code",
   "execution_count": 288,
   "id": "b0c3ae28",
   "metadata": {},
   "outputs": [
    {
     "name": "stdout",
     "output_type": "stream",
     "text": [
      "700000\n",
      "\n",
      "Steve Rogers\n",
      "12\n"
     ]
    }
   ],
   "source": [
    "class Avengers:\n",
    "    \n",
    "    raise_amt = 1.04\n",
    "    num_of_super_heros = 0\n",
    "    \n",
    "    def __init__(self, first , last ,super_hero_name, pay):\n",
    "        self.first = first\n",
    "        self.last = last\n",
    "        self.super_hero_name = super_hero_name\n",
    "        self.email = (\"\".join((super_hero_name).split())).lower() + \".\" + last.lower() + \"@avengers.com\"\n",
    "        self.pay = pay\n",
    "        Avengers.num_of_super_heros  += 1\n",
    "    \n",
    "    def full_name(self):\n",
    "        return f\"{self.first} {self.last}\"\n",
    "    \n",
    "    def apply_raise(self):\n",
    "        self.pay = int(self.pay * self.raise_amt)\n",
    "    \n",
    "    def __repr__(self):\n",
    "        return f\"Avenger : {self.super_hero_name}\\nPay: {self.pay}\"\n",
    "    \n",
    "    def __str__(self):\n",
    "        return f\"Avenger: {self.first} , {self.email}\"\n",
    "    \n",
    "    def __add__(self, x):\n",
    "        return self.pay + x.pay\n",
    "    \n",
    "    def __len__(self):\n",
    "        return  len(self.full_name())\n",
    "    \n",
    "    \n",
    "    \n",
    "    \n",
    "h1 = Avengers(\"Steve\",\"Rogers\",\"Captain America\",200000)\n",
    "h2 = Avengers(\"Tony\",\"Stark\",\"Iron Man\",500000)\n",
    "h3 = Avengers(\"Natasha\",\"Romonoff\",\"Black Widow\",100000)\n",
    "h4 = Avengers(\"Thor\",\"Odin Son\",\"God of Thunder\",10000)\n",
    "\n",
    "\n",
    "print(h1+h2)\n",
    "\n",
    "print()\n",
    "print(h1.full_name())\n",
    "print(len(h1))"
   ]
  },
  {
   "cell_type": "code",
   "execution_count": null,
   "id": "c4264c8e",
   "metadata": {},
   "outputs": [],
   "source": []
  },
  {
   "cell_type": "code",
   "execution_count": null,
   "id": "1120d05d",
   "metadata": {},
   "outputs": [],
   "source": []
  },
  {
   "cell_type": "code",
   "execution_count": 276,
   "id": "8e4c474a",
   "metadata": {},
   "outputs": [
    {
     "name": "stdout",
     "output_type": "stream",
     "text": [
      "3\n"
     ]
    }
   ],
   "source": [
    "print(int.__add__(1,2))"
   ]
  },
  {
   "cell_type": "code",
   "execution_count": 278,
   "id": "d03b54d9",
   "metadata": {},
   "outputs": [
    {
     "name": "stdout",
     "output_type": "stream",
     "text": [
      "AAzz\n"
     ]
    }
   ],
   "source": [
    "print(str.__add__(\"AA\",\"zz\"))"
   ]
  },
  {
   "cell_type": "code",
   "execution_count": 285,
   "id": "6bd9c588",
   "metadata": {},
   "outputs": [
    {
     "name": "stdout",
     "output_type": "stream",
     "text": [
      "6\n"
     ]
    }
   ],
   "source": [
    "print(\"asdasd\".__len__())"
   ]
  },
  {
   "cell_type": "code",
   "execution_count": null,
   "id": "b36f8fac",
   "metadata": {},
   "outputs": [],
   "source": []
  },
  {
   "cell_type": "markdown",
   "id": "887a9664",
   "metadata": {},
   "source": [
    "# Property Decorators - Getters, Setters, and Deleters\n"
   ]
  },
  {
   "cell_type": "code",
   "execution_count": 306,
   "id": "0017067a",
   "metadata": {},
   "outputs": [
    {
     "name": "stdout",
     "output_type": "stream",
     "text": [
      "NA\n",
      "Steve\n",
      "NA.Rogers@avengers.com\n",
      "Steve Rogers\n"
     ]
    }
   ],
   "source": [
    "class Avengers:\n",
    "    \n",
    "    num_of_super_heros = 0\n",
    "    \n",
    "    def __init__(self, first , last ,super_hero_name, pay):\n",
    "        self.first = first\n",
    "        self.last = last\n",
    "        self.super_hero_name = super_hero_name\n",
    "        self.email = first + \".\" + last + \"@avengers.com\"\n",
    "        self.pay = pay\n",
    "        Avengers.num_of_super_heros  += 1\n",
    "    \n",
    "    def full_name(self):\n",
    "        return f\"{self.first} {self.last}\"\n",
    "    \n",
    "    def email(self):\n",
    "        return f\"{self.first}.{self.last}@avengers.com\"\n",
    "    \n",
    "    \n",
    "    \n",
    "h1 = Avengers(\"NA\",\"Rogers\",\"Captain America\",200000)\n",
    "h2 = Avengers(\"Tony\",\"Stark\",\"Iron Man\",500000)\n",
    "h3 = Avengers(\"Natasha\",\"Romonoff\",\"Black Widow\",100000)\n",
    "h4 = Avengers(\"Thor\",\"Odin Son\",\"God of Thunder\",10000)\n",
    "\n",
    "print(h1.first)\n",
    "h1.first = \"Steve\"\n",
    "\n",
    "print(h1.first)\n",
    "print(h1.email)\n",
    "print(h1.full_name())\n"
   ]
  },
  {
   "cell_type": "code",
   "execution_count": null,
   "id": "659a48ba",
   "metadata": {},
   "outputs": [],
   "source": []
  },
  {
   "cell_type": "code",
   "execution_count": 307,
   "id": "75d946a6",
   "metadata": {},
   "outputs": [
    {
     "name": "stdout",
     "output_type": "stream",
     "text": [
      "NA\n",
      "Steve\n",
      "Steve.Rogers@avengers.com\n",
      "Steve Rogers\n"
     ]
    }
   ],
   "source": [
    "class Avengers:\n",
    "    \n",
    "    num_of_super_heros = 0\n",
    "    \n",
    "    def __init__(self, first , last ,super_hero_name, pay):\n",
    "        self.first = first\n",
    "        self.last = last\n",
    "        self.super_hero_name = super_hero_name\n",
    "        \n",
    "        self.pay = pay\n",
    "        Avengers.num_of_super_heros  += 1\n",
    "    \n",
    "    def full_name(self):\n",
    "        return f\"{self.first} {self.last}\"\n",
    "    \n",
    "    def email(self):\n",
    "        return f\"{self.first}.{self.last}@avengers.com\"\n",
    "    \n",
    "    \n",
    "    \n",
    "h1 = Avengers(\"NA\",\"Rogers\",\"Captain America\",200000)\n",
    "h2 = Avengers(\"Tony\",\"Stark\",\"Iron Man\",500000)\n",
    "h3 = Avengers(\"Natasha\",\"Romonoff\",\"Black Widow\",100000)\n",
    "h4 = Avengers(\"Thor\",\"Odin Son\",\"God of Thunder\",10000)\n",
    "\n",
    "print(h1.first)\n",
    "h1.first = \"Steve\"\n",
    "\n",
    "print(h1.first)\n",
    "print(h1.email())\n",
    "print(h1.full_name())\n"
   ]
  },
  {
   "cell_type": "code",
   "execution_count": null,
   "id": "5d9e1ecd",
   "metadata": {},
   "outputs": [],
   "source": []
  },
  {
   "cell_type": "code",
   "execution_count": null,
   "id": "f6f168e3",
   "metadata": {},
   "outputs": [],
   "source": []
  },
  {
   "cell_type": "code",
   "execution_count": 311,
   "id": "0ac539c3",
   "metadata": {},
   "outputs": [
    {
     "name": "stdout",
     "output_type": "stream",
     "text": [
      "NA\n",
      "Steve\n",
      "Steve.Rogers@avengers.com\n",
      "Steve Rogers\n"
     ]
    }
   ],
   "source": [
    "class Avengers:\n",
    "    \n",
    "    num_of_super_heros = 0\n",
    "    \n",
    "    def __init__(self, first , last ,super_hero_name, pay):\n",
    "        self.first = first\n",
    "        self.last = last\n",
    "        self.super_hero_name = super_hero_name\n",
    "        \n",
    "        self.pay = pay\n",
    "        Avengers.num_of_super_heros  += 1\n",
    "    \n",
    "    @property\n",
    "    def full_name(self):\n",
    "        return f\"{self.first} {self.last}\"\n",
    "    \n",
    "    @property\n",
    "    def email(self):\n",
    "        return f\"{self.first}.{self.last}@avengers.com\"\n",
    "    \n",
    "    \n",
    "    \n",
    "h1 = Avengers(\"NA\",\"Rogers\",\"Captain America\",200000)\n",
    "h2 = Avengers(\"Tony\",\"Stark\",\"Iron Man\",500000)\n",
    "h3 = Avengers(\"Natasha\",\"Romonoff\",\"Black Widow\",100000)\n",
    "h4 = Avengers(\"Thor\",\"Odin Son\",\"God of Thunder\",10000)\n",
    "\n",
    "print(h1.first)\n",
    "h1.first = \"Steve\"\n",
    "\n",
    "print(h1.first)\n",
    "print(h1.email)\n",
    "print(h1.full_name)\n"
   ]
  },
  {
   "cell_type": "code",
   "execution_count": null,
   "id": "b60d0f56",
   "metadata": {},
   "outputs": [],
   "source": []
  },
  {
   "cell_type": "code",
   "execution_count": null,
   "id": "e59c3a5e",
   "metadata": {},
   "outputs": [],
   "source": []
  },
  {
   "cell_type": "code",
   "execution_count": 315,
   "id": "a25eb113",
   "metadata": {},
   "outputs": [
    {
     "ename": "AttributeError",
     "evalue": "can't set attribute",
     "output_type": "error",
     "traceback": [
      "\u001b[1;31m---------------------------------------------------------------------------\u001b[0m",
      "\u001b[1;31mAttributeError\u001b[0m                            Traceback (most recent call last)",
      "\u001b[1;32m~\\AppData\\Local\\Temp/ipykernel_41444/476641749.py\u001b[0m in \u001b[0;36m<module>\u001b[1;34m\u001b[0m\n\u001b[0;32m     30\u001b[0m \u001b[0mh5\u001b[0m \u001b[1;33m=\u001b[0m \u001b[0mAvengers\u001b[0m\u001b[1;33m(\u001b[0m\u001b[1;34m\"xyz\"\u001b[0m\u001b[1;33m,\u001b[0m\u001b[1;34m\"abc\"\u001b[0m\u001b[1;33m,\u001b[0m\u001b[1;34m\"The Programmer\"\u001b[0m\u001b[1;33m,\u001b[0m\u001b[1;36m15151515\u001b[0m\u001b[1;33m)\u001b[0m\u001b[1;33m\u001b[0m\u001b[1;33m\u001b[0m\u001b[0m\n\u001b[0;32m     31\u001b[0m \u001b[1;33m\u001b[0m\u001b[0m\n\u001b[1;32m---> 32\u001b[1;33m \u001b[0mh5\u001b[0m\u001b[1;33m.\u001b[0m\u001b[0mfull_name\u001b[0m \u001b[1;33m=\u001b[0m \u001b[1;34m\"Corey Schafer\"\u001b[0m\u001b[1;33m\u001b[0m\u001b[1;33m\u001b[0m\u001b[0m\n\u001b[0m",
      "\u001b[1;31mAttributeError\u001b[0m: can't set attribute"
     ]
    }
   ],
   "source": [
    "class Avengers:\n",
    "    \n",
    "    num_of_super_heros = 0\n",
    "    \n",
    "    def __init__(self, first , last ,super_hero_name, pay):\n",
    "        self.first = first\n",
    "        self.last = last\n",
    "        self.super_hero_name = super_hero_name\n",
    "        \n",
    "        self.pay = pay\n",
    "        Avengers.num_of_super_heros  += 1\n",
    "    \n",
    "    @property\n",
    "    def full_name(self):\n",
    "        return f\"{self.first} {self.last}\"\n",
    "    \n",
    "    @property\n",
    "    def email(self):\n",
    "        return f\"{self.first}.{self.last}@avengers.com\"\n",
    "    \n",
    "    \n",
    "    \n",
    "h1 = Avengers(\"Steve\",\"Rogers\",\"Captain America\",200000)\n",
    "h2 = Avengers(\"Tony\",\"Stark\",\"Iron Man\",500000)\n",
    "h3 = Avengers(\"Natasha\",\"Romonoff\",\"Black Widow\",100000)\n",
    "h4 = Avengers(\"Thor\",\"Odin Son\",\"God of Thunder\",10000)\n",
    "\n",
    "\n",
    "\n",
    "h5 = Avengers(\"xyz\",\"abc\",\"The Programmer\",15151515)\n",
    "\n",
    "h5.full_name = \"Corey Schafer\""
   ]
  },
  {
   "cell_type": "code",
   "execution_count": null,
   "id": "ad2426ff",
   "metadata": {},
   "outputs": [],
   "source": []
  },
  {
   "cell_type": "code",
   "execution_count": 329,
   "id": "3a331d04",
   "metadata": {},
   "outputs": [
    {
     "name": "stdout",
     "output_type": "stream",
     "text": [
      "Corey Schafer\n",
      "Corey\n",
      "Schafer\n"
     ]
    },
    {
     "ename": "NameError",
     "evalue": "name 'h5' is not defined",
     "output_type": "error",
     "traceback": [
      "\u001b[1;31m---------------------------------------------------------------------------\u001b[0m",
      "\u001b[1;31mNameError\u001b[0m                                 Traceback (most recent call last)",
      "\u001b[1;32m~\\AppData\\Local\\Temp/ipykernel_41444/157656021.py\u001b[0m in \u001b[0;36m<module>\u001b[1;34m\u001b[0m\n\u001b[0;32m     42\u001b[0m \u001b[0mprint\u001b[0m\u001b[1;33m(\u001b[0m\u001b[0mh5\u001b[0m\u001b[1;33m.\u001b[0m\u001b[0mlast\u001b[0m\u001b[1;33m)\u001b[0m\u001b[1;33m\u001b[0m\u001b[1;33m\u001b[0m\u001b[0m\n\u001b[0;32m     43\u001b[0m \u001b[1;32mdel\u001b[0m \u001b[0mh5\u001b[0m\u001b[1;33m\u001b[0m\u001b[1;33m\u001b[0m\u001b[0m\n\u001b[1;32m---> 44\u001b[1;33m \u001b[0mprint\u001b[0m\u001b[1;33m(\u001b[0m\u001b[0mh5\u001b[0m\u001b[1;33m.\u001b[0m\u001b[0memail\u001b[0m\u001b[1;33m)\u001b[0m\u001b[1;33m\u001b[0m\u001b[1;33m\u001b[0m\u001b[0m\n\u001b[0m",
      "\u001b[1;31mNameError\u001b[0m: name 'h5' is not defined"
     ]
    }
   ],
   "source": [
    "class Avengers:\n",
    "    \n",
    "    num_of_super_heros = 0\n",
    "    \n",
    "    def __init__(self, first , last ,super_hero_name, pay):\n",
    "        self.first = first\n",
    "        self.last = last\n",
    "        self.super_hero_name = super_hero_name\n",
    "        \n",
    "        self.pay = pay\n",
    "        Avengers.num_of_super_heros  += 1\n",
    "    \n",
    "    @property\n",
    "    def full_name(self):\n",
    "        return f\"{self.first} {self.last}\"\n",
    "    \n",
    "    @property\n",
    "    def email(self):\n",
    "        return f\"{self.first}.{self.last}@avengers.com\"\n",
    "    \n",
    "    @full_name.setter\n",
    "    def full_name(self,name):\n",
    "        first, last = name.split(\" \")\n",
    "        self.first = first\n",
    "        self.last = last\n",
    "    \n",
    "    \n",
    "    \n",
    "h1 = Avengers(\"Steve\",\"Rogers\",\"Captain America\",200000)\n",
    "h2 = Avengers(\"Tony\",\"Stark\",\"Iron Man\",500000)\n",
    "h3 = Avengers(\"Natasha\",\"Romonoff\",\"Black Widow\",100000)\n",
    "h4 = Avengers(\"Thor\",\"Odin Son\",\"God of Thunder\",10000)\n",
    "\n",
    "\n",
    "\n",
    "h5 = Avengers(\"xyz\",\"abc\",\"The Programmer\",15151515)\n",
    "\n",
    "h5.full_name = \"Corey Schafer\"\n",
    "\n",
    "print(h5.full_name)\n",
    "print(h5.first)\n",
    "print(h5.last)\n",
    "del h5\n",
    "print(h5.email)"
   ]
  },
  {
   "cell_type": "code",
   "execution_count": null,
   "id": "1dfb7b65",
   "metadata": {},
   "outputs": [],
   "source": []
  },
  {
   "cell_type": "code",
   "execution_count": null,
   "id": "d8717402",
   "metadata": {},
   "outputs": [],
   "source": []
  },
  {
   "cell_type": "code",
   "execution_count": null,
   "id": "c82e4ac3",
   "metadata": {},
   "outputs": [],
   "source": []
  },
  {
   "cell_type": "code",
   "execution_count": null,
   "id": "702fc9a4",
   "metadata": {},
   "outputs": [],
   "source": []
  },
  {
   "cell_type": "code",
   "execution_count": null,
   "id": "9e1b9c03",
   "metadata": {},
   "outputs": [],
   "source": []
  },
  {
   "cell_type": "code",
   "execution_count": null,
   "id": "e7f98ef0",
   "metadata": {},
   "outputs": [],
   "source": []
  },
  {
   "cell_type": "code",
   "execution_count": null,
   "id": "de1c8fee",
   "metadata": {},
   "outputs": [],
   "source": []
  },
  {
   "cell_type": "code",
   "execution_count": null,
   "id": "d4204b80",
   "metadata": {},
   "outputs": [],
   "source": []
  },
  {
   "cell_type": "code",
   "execution_count": 317,
   "id": "b909a0b9",
   "metadata": {},
   "outputs": [
    {
     "data": {
      "text/plain": [
       "['Sunny', 'Panchal']"
      ]
     },
     "execution_count": 317,
     "metadata": {},
     "output_type": "execute_result"
    }
   ],
   "source": [
    "\"Sunny Panchal\".split(\" \")"
   ]
  },
  {
   "cell_type": "markdown",
   "id": "e8796711",
   "metadata": {},
   "source": [
    "# generator\n",
    "\n",
    "### generators doesnt hold all the values in the memory ! \n",
    "### we can execute each values one after another as per we want to call \n"
   ]
  },
  {
   "cell_type": "code",
   "execution_count": 214,
   "id": "d6088608",
   "metadata": {},
   "outputs": [],
   "source": [
    "def generator(n):\n",
    "    for i in range(n):\n",
    "        yield i"
   ]
  },
  {
   "cell_type": "code",
   "execution_count": 215,
   "id": "2f51a720",
   "metadata": {},
   "outputs": [],
   "source": [
    "gen_object = generator(15)\n"
   ]
  },
  {
   "cell_type": "code",
   "execution_count": 216,
   "id": "f2f6cfa3",
   "metadata": {},
   "outputs": [
    {
     "name": "stdout",
     "output_type": "stream",
     "text": [
      "0\n",
      "1\n",
      "2\n",
      "3\n",
      "4\n",
      "5\n",
      "6\n",
      "7\n",
      "8\n",
      "9\n",
      "10\n",
      "11\n"
     ]
    }
   ],
   "source": [
    "print(next(gen_object))\n",
    "print(next(gen_object))\n",
    "print(next(gen_object))\n",
    "print(next(gen_object))\n",
    "print(next(gen_object))\n",
    "print(next(gen_object))\n",
    "print(next(gen_object))\n",
    "print(next(gen_object))\n",
    "print(next(gen_object))\n",
    "print(next(gen_object))\n",
    "print(next(gen_object))\n",
    "print(next(gen_object))"
   ]
  },
  {
   "cell_type": "code",
   "execution_count": 217,
   "id": "afb9cc03",
   "metadata": {},
   "outputs": [
    {
     "name": "stdout",
     "output_type": "stream",
     "text": [
      "12\n",
      "13\n"
     ]
    }
   ],
   "source": [
    "print(next(gen_object))\n",
    "print(next(gen_object))"
   ]
  },
  {
   "cell_type": "code",
   "execution_count": 218,
   "id": "5fbadb1b",
   "metadata": {
    "scrolled": true
   },
   "outputs": [
    {
     "name": "stdout",
     "output_type": "stream",
     "text": [
      "14\n"
     ]
    }
   ],
   "source": [
    "print(next(gen_object))\n",
    "# print(next(gen_object))   # out of generator "
   ]
  },
  {
   "cell_type": "code",
   "execution_count": null,
   "id": "0d34d248",
   "metadata": {},
   "outputs": [],
   "source": []
  },
  {
   "cell_type": "code",
   "execution_count": null,
   "id": "0c344fb5",
   "metadata": {},
   "outputs": [],
   "source": []
  },
  {
   "cell_type": "code",
   "execution_count": 208,
   "id": "9cbde118",
   "metadata": {},
   "outputs": [],
   "source": [
    "def sq_nums(n):\n",
    "    for i in n:\n",
    "        yield i*i\n",
    "        \n",
    "mynums = sq_nums([1,2,3,4,5])"
   ]
  },
  {
   "cell_type": "code",
   "execution_count": 209,
   "id": "7efddac0",
   "metadata": {},
   "outputs": [
    {
     "data": {
      "text/plain": [
       "<generator object sq_nums at 0x000002A6AAF2BA50>"
      ]
     },
     "execution_count": 209,
     "metadata": {},
     "output_type": "execute_result"
    }
   ],
   "source": [
    "mynums"
   ]
  },
  {
   "cell_type": "code",
   "execution_count": 210,
   "id": "d1b731ee",
   "metadata": {},
   "outputs": [
    {
     "name": "stdout",
     "output_type": "stream",
     "text": [
      "1\n",
      "4\n",
      "9\n"
     ]
    }
   ],
   "source": [
    "print(next(mynums))\n",
    "print(next(mynums))\n",
    "print(next(mynums))"
   ]
  },
  {
   "cell_type": "code",
   "execution_count": 211,
   "id": "b1d5ecd4",
   "metadata": {},
   "outputs": [
    {
     "name": "stdout",
     "output_type": "stream",
     "text": [
      "16\n",
      "25\n"
     ]
    }
   ],
   "source": [
    "print(next(mynums))\n",
    "print(next(mynums))"
   ]
  },
  {
   "cell_type": "code",
   "execution_count": 213,
   "id": "8e98a783",
   "metadata": {},
   "outputs": [],
   "source": [
    "# print(next(mynums))  # done STOP ITERATION"
   ]
  },
  {
   "cell_type": "code",
   "execution_count": null,
   "id": "61585bec",
   "metadata": {},
   "outputs": [],
   "source": []
  },
  {
   "cell_type": "code",
   "execution_count": 219,
   "id": "9395f787",
   "metadata": {},
   "outputs": [],
   "source": [
    "x = sq_nums([1,2,3,4,5])"
   ]
  },
  {
   "cell_type": "code",
   "execution_count": 222,
   "id": "210eac3d",
   "metadata": {},
   "outputs": [
    {
     "name": "stdout",
     "output_type": "stream",
     "text": [
      "1\n",
      "4\n",
      "9\n",
      "16\n",
      "25\n"
     ]
    }
   ],
   "source": [
    "for i in x:\n",
    "    print(i)"
   ]
  },
  {
   "cell_type": "code",
   "execution_count": null,
   "id": "81d2289f",
   "metadata": {},
   "outputs": [],
   "source": []
  },
  {
   "cell_type": "code",
   "execution_count": 223,
   "id": "0da8a8fb",
   "metadata": {},
   "outputs": [],
   "source": [
    "asd = [x*x for x in [1,2,3,4,5]]"
   ]
  },
  {
   "cell_type": "code",
   "execution_count": 225,
   "id": "767b27a3",
   "metadata": {},
   "outputs": [
    {
     "name": "stdout",
     "output_type": "stream",
     "text": [
      "1\n",
      "4\n",
      "9\n",
      "16\n",
      "25\n"
     ]
    }
   ],
   "source": [
    "for i in asd:\n",
    "    print(i)"
   ]
  },
  {
   "cell_type": "code",
   "execution_count": null,
   "id": "f4914feb",
   "metadata": {},
   "outputs": [],
   "source": []
  },
  {
   "cell_type": "code",
   "execution_count": 227,
   "id": "d2069435",
   "metadata": {},
   "outputs": [],
   "source": [
    "asd = (x*x for x in [1,2,3,4,5])"
   ]
  },
  {
   "cell_type": "code",
   "execution_count": 228,
   "id": "aff367c8",
   "metadata": {},
   "outputs": [
    {
     "data": {
      "text/plain": [
       "<generator object <genexpr> at 0x000002A6AB371120>"
      ]
     },
     "execution_count": 228,
     "metadata": {},
     "output_type": "execute_result"
    }
   ],
   "source": [
    "asd"
   ]
  },
  {
   "cell_type": "code",
   "execution_count": 229,
   "id": "b0956ad3",
   "metadata": {},
   "outputs": [
    {
     "name": "stdout",
     "output_type": "stream",
     "text": [
      "1\n",
      "4\n",
      "9\n",
      "16\n",
      "25\n"
     ]
    }
   ],
   "source": [
    "for i in asd:\n",
    "    print(i)"
   ]
  },
  {
   "cell_type": "code",
   "execution_count": 230,
   "id": "f13ddd05",
   "metadata": {},
   "outputs": [],
   "source": [
    "Y = (x*x for x in [1,2,3,4,5])"
   ]
  },
  {
   "cell_type": "code",
   "execution_count": 231,
   "id": "f4a59720",
   "metadata": {},
   "outputs": [
    {
     "name": "stdout",
     "output_type": "stream",
     "text": [
      "[1, 4, 9, 16, 25]\n"
     ]
    }
   ],
   "source": [
    "print(list(Y))"
   ]
  },
  {
   "cell_type": "code",
   "execution_count": null,
   "id": "ee7164d8",
   "metadata": {},
   "outputs": [],
   "source": []
  },
  {
   "cell_type": "markdown",
   "id": "16904fdf",
   "metadata": {},
   "source": [
    "# iterable:"
   ]
  },
  {
   "cell_type": "code",
   "execution_count": null,
   "id": "6adce099",
   "metadata": {},
   "outputs": [],
   "source": [
    "# list,string,dict,set,tuple"
   ]
  },
  {
   "cell_type": "code",
   "execution_count": 194,
   "id": "b7d5200d",
   "metadata": {},
   "outputs": [
    {
     "name": "stdout",
     "output_type": "stream",
     "text": [
      "a\n",
      "s\n",
      "d\n",
      "f\n"
     ]
    }
   ],
   "source": [
    "for i in \"asdf\":\n",
    "    print(i)"
   ]
  },
  {
   "cell_type": "markdown",
   "id": "c6f9d443",
   "metadata": {},
   "source": [
    "# iterator"
   ]
  },
  {
   "cell_type": "code",
   "execution_count": 195,
   "id": "a4c2e7a3",
   "metadata": {},
   "outputs": [],
   "source": [
    "x = \"abcdefgh\"\n",
    "iter1 = iter(x)"
   ]
  },
  {
   "cell_type": "code",
   "execution_count": 197,
   "id": "44ffb2c1",
   "metadata": {},
   "outputs": [
    {
     "data": {
      "text/plain": [
       "'a'"
      ]
     },
     "execution_count": 197,
     "metadata": {},
     "output_type": "execute_result"
    }
   ],
   "source": [
    "next(iter1)"
   ]
  },
  {
   "cell_type": "code",
   "execution_count": 198,
   "id": "c5043a23",
   "metadata": {},
   "outputs": [
    {
     "data": {
      "text/plain": [
       "'b'"
      ]
     },
     "execution_count": 198,
     "metadata": {},
     "output_type": "execute_result"
    }
   ],
   "source": [
    "next(iter1)"
   ]
  },
  {
   "cell_type": "code",
   "execution_count": 199,
   "id": "a6b5c222",
   "metadata": {},
   "outputs": [
    {
     "data": {
      "text/plain": [
       "'c'"
      ]
     },
     "execution_count": 199,
     "metadata": {},
     "output_type": "execute_result"
    }
   ],
   "source": [
    "next(iter1)"
   ]
  },
  {
   "cell_type": "code",
   "execution_count": 200,
   "id": "e2b8d2e9",
   "metadata": {},
   "outputs": [
    {
     "data": {
      "text/plain": [
       "'d'"
      ]
     },
     "execution_count": 200,
     "metadata": {},
     "output_type": "execute_result"
    }
   ],
   "source": [
    "next(iter1)"
   ]
  },
  {
   "cell_type": "code",
   "execution_count": 202,
   "id": "693a8ff4",
   "metadata": {},
   "outputs": [
    {
     "ename": "StopIteration",
     "evalue": "",
     "output_type": "error",
     "traceback": [
      "\u001b[1;31m---------------------------------------------------------------------------\u001b[0m",
      "\u001b[1;31mStopIteration\u001b[0m                             Traceback (most recent call last)",
      "\u001b[1;32m~\\AppData\\Local\\Temp/ipykernel_41444/1536072539.py\u001b[0m in \u001b[0;36m<module>\u001b[1;34m\u001b[0m\n\u001b[1;32m----> 1\u001b[1;33m \u001b[0mprint\u001b[0m\u001b[1;33m(\u001b[0m\u001b[0mnext\u001b[0m\u001b[1;33m(\u001b[0m\u001b[0miter1\u001b[0m\u001b[1;33m)\u001b[0m\u001b[1;33m)\u001b[0m\u001b[1;33m\u001b[0m\u001b[1;33m\u001b[0m\u001b[0m\n\u001b[0m\u001b[0;32m      2\u001b[0m \u001b[0mprint\u001b[0m\u001b[1;33m(\u001b[0m\u001b[0mnext\u001b[0m\u001b[1;33m(\u001b[0m\u001b[0miter1\u001b[0m\u001b[1;33m)\u001b[0m\u001b[1;33m)\u001b[0m\u001b[1;33m\u001b[0m\u001b[1;33m\u001b[0m\u001b[0m\n\u001b[0;32m      3\u001b[0m \u001b[0mprint\u001b[0m\u001b[1;33m(\u001b[0m\u001b[0mnext\u001b[0m\u001b[1;33m(\u001b[0m\u001b[0miter1\u001b[0m\u001b[1;33m)\u001b[0m\u001b[1;33m)\u001b[0m\u001b[1;33m\u001b[0m\u001b[1;33m\u001b[0m\u001b[0m\n\u001b[0;32m      4\u001b[0m \u001b[0mprint\u001b[0m\u001b[1;33m(\u001b[0m\u001b[0mnext\u001b[0m\u001b[1;33m(\u001b[0m\u001b[0miter1\u001b[0m\u001b[1;33m)\u001b[0m\u001b[1;33m)\u001b[0m\u001b[1;33m\u001b[0m\u001b[1;33m\u001b[0m\u001b[0m\n\u001b[0;32m      5\u001b[0m \u001b[0mprint\u001b[0m\u001b[1;33m(\u001b[0m\u001b[0mnext\u001b[0m\u001b[1;33m(\u001b[0m\u001b[0miter1\u001b[0m\u001b[1;33m)\u001b[0m\u001b[1;33m)\u001b[0m\u001b[1;33m\u001b[0m\u001b[1;33m\u001b[0m\u001b[0m\n",
      "\u001b[1;31mStopIteration\u001b[0m: "
     ]
    }
   ],
   "source": [
    "print(next(iter1))\n",
    "print(next(iter1))\n",
    "print(next(iter1))\n",
    "print(next(iter1))\n",
    "print(next(iter1))\n",
    "print(next(iter1))"
   ]
  },
  {
   "cell_type": "code",
   "execution_count": null,
   "id": "839d1e62",
   "metadata": {},
   "outputs": [],
   "source": []
  },
  {
   "cell_type": "code",
   "execution_count": null,
   "id": "9b5648ec",
   "metadata": {},
   "outputs": [],
   "source": []
  },
  {
   "cell_type": "code",
   "execution_count": null,
   "id": "43629b27",
   "metadata": {},
   "outputs": [],
   "source": []
  },
  {
   "cell_type": "code",
   "execution_count": null,
   "id": "fea0c1a0",
   "metadata": {},
   "outputs": [],
   "source": []
  },
  {
   "cell_type": "code",
   "execution_count": null,
   "id": "e28bc3af",
   "metadata": {},
   "outputs": [],
   "source": []
  },
  {
   "cell_type": "code",
   "execution_count": null,
   "id": "bfe527d5",
   "metadata": {},
   "outputs": [],
   "source": []
  },
  {
   "cell_type": "code",
   "execution_count": null,
   "id": "9065071f",
   "metadata": {},
   "outputs": [],
   "source": []
  },
  {
   "cell_type": "code",
   "execution_count": null,
   "id": "e7cad7ab",
   "metadata": {},
   "outputs": [],
   "source": []
  },
  {
   "cell_type": "code",
   "execution_count": null,
   "id": "8773f7df",
   "metadata": {},
   "outputs": [],
   "source": []
  },
  {
   "cell_type": "code",
   "execution_count": null,
   "id": "5a6ce536",
   "metadata": {},
   "outputs": [],
   "source": []
  },
  {
   "cell_type": "code",
   "execution_count": null,
   "id": "fdd2b4ab",
   "metadata": {},
   "outputs": [],
   "source": []
  },
  {
   "cell_type": "code",
   "execution_count": null,
   "id": "72b0410d",
   "metadata": {},
   "outputs": [],
   "source": []
  },
  {
   "cell_type": "code",
   "execution_count": null,
   "id": "dd1764c4",
   "metadata": {},
   "outputs": [],
   "source": []
  },
  {
   "cell_type": "code",
   "execution_count": null,
   "id": "067255a3",
   "metadata": {},
   "outputs": [],
   "source": []
  },
  {
   "cell_type": "code",
   "execution_count": null,
   "id": "a90b2fbd",
   "metadata": {},
   "outputs": [],
   "source": []
  },
  {
   "cell_type": "code",
   "execution_count": null,
   "id": "c778beda",
   "metadata": {},
   "outputs": [],
   "source": []
  },
  {
   "cell_type": "code",
   "execution_count": null,
   "id": "e03a447a",
   "metadata": {},
   "outputs": [],
   "source": []
  },
  {
   "cell_type": "code",
   "execution_count": null,
   "id": "ec2e6feb",
   "metadata": {},
   "outputs": [],
   "source": []
  },
  {
   "cell_type": "code",
   "execution_count": null,
   "id": "628900e3",
   "metadata": {},
   "outputs": [],
   "source": []
  },
  {
   "cell_type": "code",
   "execution_count": null,
   "id": "adf67a16",
   "metadata": {},
   "outputs": [],
   "source": []
  },
  {
   "cell_type": "code",
   "execution_count": null,
   "id": "2d6eefe9",
   "metadata": {},
   "outputs": [],
   "source": []
  },
  {
   "cell_type": "code",
   "execution_count": null,
   "id": "3aa8f766",
   "metadata": {},
   "outputs": [],
   "source": []
  },
  {
   "cell_type": "code",
   "execution_count": null,
   "id": "119b4694",
   "metadata": {},
   "outputs": [],
   "source": []
  },
  {
   "cell_type": "code",
   "execution_count": null,
   "id": "bb171e88",
   "metadata": {},
   "outputs": [],
   "source": []
  },
  {
   "cell_type": "code",
   "execution_count": null,
   "id": "6d5ce13d",
   "metadata": {},
   "outputs": [],
   "source": []
  },
  {
   "cell_type": "code",
   "execution_count": null,
   "id": "d70e8ff2",
   "metadata": {},
   "outputs": [],
   "source": []
  },
  {
   "cell_type": "code",
   "execution_count": null,
   "id": "07473746",
   "metadata": {},
   "outputs": [],
   "source": []
  },
  {
   "cell_type": "code",
   "execution_count": null,
   "id": "9711980d",
   "metadata": {},
   "outputs": [],
   "source": []
  },
  {
   "cell_type": "code",
   "execution_count": null,
   "id": "bdca99b1",
   "metadata": {},
   "outputs": [],
   "source": []
  },
  {
   "cell_type": "code",
   "execution_count": null,
   "id": "96e1bf62",
   "metadata": {},
   "outputs": [],
   "source": []
  },
  {
   "cell_type": "code",
   "execution_count": null,
   "id": "4f2f360c",
   "metadata": {},
   "outputs": [],
   "source": []
  },
  {
   "cell_type": "code",
   "execution_count": null,
   "id": "561fedad",
   "metadata": {},
   "outputs": [],
   "source": []
  },
  {
   "cell_type": "code",
   "execution_count": null,
   "id": "1ce4cd4e",
   "metadata": {},
   "outputs": [],
   "source": []
  },
  {
   "cell_type": "code",
   "execution_count": null,
   "id": "c85027fc",
   "metadata": {},
   "outputs": [],
   "source": []
  },
  {
   "cell_type": "code",
   "execution_count": null,
   "id": "f7396098",
   "metadata": {},
   "outputs": [],
   "source": []
  },
  {
   "cell_type": "code",
   "execution_count": null,
   "id": "c3b60988",
   "metadata": {},
   "outputs": [],
   "source": []
  },
  {
   "cell_type": "code",
   "execution_count": null,
   "id": "2a978ccc",
   "metadata": {},
   "outputs": [],
   "source": []
  },
  {
   "cell_type": "code",
   "execution_count": null,
   "id": "2c25ba72",
   "metadata": {},
   "outputs": [],
   "source": []
  },
  {
   "cell_type": "code",
   "execution_count": null,
   "id": "a228b400",
   "metadata": {},
   "outputs": [],
   "source": []
  },
  {
   "cell_type": "code",
   "execution_count": null,
   "id": "11d66434",
   "metadata": {},
   "outputs": [],
   "source": []
  },
  {
   "cell_type": "code",
   "execution_count": null,
   "id": "ab94f93d",
   "metadata": {},
   "outputs": [],
   "source": []
  }
 ],
 "metadata": {
  "kernelspec": {
   "display_name": "Python 3 (ipykernel)",
   "language": "python",
   "name": "python3"
  },
  "language_info": {
   "codemirror_mode": {
    "name": "ipython",
    "version": 3
   },
   "file_extension": ".py",
   "mimetype": "text/x-python",
   "name": "python",
   "nbconvert_exporter": "python",
   "pygments_lexer": "ipython3",
   "version": "3.9.7"
  }
 },
 "nbformat": 4,
 "nbformat_minor": 5
}
